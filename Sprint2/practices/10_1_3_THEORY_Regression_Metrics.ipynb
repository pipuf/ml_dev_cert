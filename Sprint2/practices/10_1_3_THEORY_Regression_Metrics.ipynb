{
  "cells": [
    {
      "cell_type": "markdown",
      "metadata": {
        "id": "view-in-github",
        "colab_type": "text"
      },
      "source": [
        "<a href=\"https://colab.research.google.com/github/pipuf/ml_dev_cert/blob/main/10_1_3_THEORY_Regression_Metrics.ipynb\" target=\"_parent\"><img src=\"https://colab.research.google.com/assets/colab-badge.svg\" alt=\"Open In Colab\"/></a>"
      ]
    },
    {
      "cell_type": "markdown",
      "metadata": {
        "id": "k2gEM7Z99thE"
      },
      "source": [
        "This page briefly goes over the regression metrics found in scikit-learn. The metrics are first calculated with NumPy and then calculated using the higher level functions available in sklearn.metrics."
      ]
    },
    {
      "cell_type": "markdown",
      "metadata": {
        "id": "gOai4wu99thK"
      },
      "source": [
        "### 1. Generate data and fit with linear model"
      ]
    },
    {
      "cell_type": "code",
      "execution_count": null,
      "metadata": {
        "colab": {
          "base_uri": "https://localhost:8080/",
          "height": 431
        },
        "id": "cOnHmbvy9thL",
        "outputId": "2143249d-8644-429e-c658-995c4672be00"
      },
      "outputs": [
        {
          "output_type": "display_data",
          "data": {
            "text/plain": [
              "<Figure size 640x480 with 1 Axes>"
            ],
            "image/png": "[encoded data removed]"
          },
          "metadata": {}
        }
      ],
      "source": [
        "from sklearn.linear_model import LinearRegression\n",
        "from sklearn.datasets import make_regression\n",
        "import matplotlib.pyplot as plt\n",
        "import seaborn\n",
        "%matplotlib inline\n",
        "\n",
        "#Generate data\n",
        "regression_data, regression_values = make_regression(n_samples=100,n_features=1,n_informative=1,noise=10)\n",
        "\n",
        "#Set X, y_true (and shift to quadrant 1)\n",
        "X = regression_data[:,0].reshape(100,1)+200\n",
        "y_true = regression_values.reshape(100,1)+200\n",
        "\n",
        "##Fit data\n",
        "lr_model = LinearRegression()\n",
        "lr_model.fit(X,y_true)\n",
        "\n",
        "#Make predictions\n",
        "y_pred = lr_model.predict(X)\n",
        "\n",
        "#Plot Data\n",
        "# plt.style.use('seaborn')\n",
        "plt.scatter(X,y_true)\n",
        "plt.plot(X,y_pred,'g-');"
      ]
    },
    {
      "cell_type": "markdown",
      "metadata": {
        "id": "HtCNDDGC9thP"
      },
      "source": [
        "## 2. Regression Metrics"
      ]
    },
    {
      "cell_type": "code",
      "execution_count": null,
      "metadata": {
        "collapsed": true,
        "id": "RQqW5fz59thQ"
      },
      "outputs": [],
      "source": [
        "from sklearn.metrics import mean_squared_error, mean_squared_log_error, mean_absolute_error, median_absolute_error,explained_variance_score,r2_score\n",
        "import numpy as np"
      ]
    },
    {
      "cell_type": "markdown",
      "metadata": {
        "id": "H6Klp64P9thR"
      },
      "source": [
        "#### Mean Squared Error\n",
        "This metric is a component of one of the most popular regression metrics (Root Mean Squared Error). It penalizes outliers due to its squared component. It is calculated as the average of the squares of the difference between the predicted and true values of y."
      ]
    },
    {
      "cell_type": "code",
      "execution_count": null,
      "metadata": {
        "colab": {
          "base_uri": "https://localhost:8080/"
        },
        "id": "ulFjuYBi9thR",
        "outputId": "4807a589-166b-4a20-d100-ca6687023467"
      },
      "outputs": [
        {
          "output_type": "stream",
          "name": "stdout",
          "text": [
            "Mean squared error: 120.92800933228052\n"
          ]
        }
      ],
      "source": [
        "MSE = np.mean((y_true-y_pred)**2)\n",
        "\n",
        "#or use sklearn\n",
        "MSE_sklearn = mean_squared_error(y_true,y_pred)\n",
        "\n",
        "if MSE==MSE_sklearn:\n",
        "    print(\"Mean squared error: {}\".format(MSE))"
      ]
    },
    {
      "cell_type": "markdown",
      "metadata": {
        "id": "HUVKn-0B9thS"
      },
      "source": [
        "#### Root Mean Squared Error\n",
        "\n",
        "RMSE (Root mean squared error) is commonly used as an evaluation metric in regression problems. It is calculated by taking the square root of Mean Squared Error. Conveniently, the RMSE as the same units as the quantity estimated (y).\n"
      ]
    },
    {
      "cell_type": "code",
      "execution_count": null,
      "metadata": {
        "colab": {
          "base_uri": "https://localhost:8080/"
        },
        "id": "jwcwPM189thT",
        "outputId": "16e4d48e-b53a-4750-ea38-fe7cbea4032d"
      },
      "outputs": [
        {
          "output_type": "stream",
          "name": "stdout",
          "text": [
            "Root mean squared error: 10.996727210051203\n"
          ]
        }
      ],
      "source": [
        "RMSE = np.sqrt(MSE)\n",
        "\n",
        "#no sklearn function available as of v0.19.0\n",
        "\n",
        "print(\"Root mean squared error: {}\".format(RMSE))"
      ]
    },
    {
      "cell_type": "markdown",
      "metadata": {
        "id": "w7RUheRt9thU"
      },
      "source": [
        "#### R^2 Score\n",
        "\n",
        "Also know as the coefficient of determination. It gives some idea of the \"goodness of fit\" of the model. It calculates the proportion of variance which is explained by the model. Ranges from 0 to 1 where perfect explanation is denoted with a 1."
      ]
    },
    {
      "cell_type": "code",
      "execution_count": null,
      "metadata": {
        "colab": {
          "base_uri": "https://localhost:8080/"
        },
        "id": "VFRRpSFr9thU",
        "outputId": "699ec8d1-edfd-43ae-f1b7-f517b448d4a5"
      },
      "outputs": [
        {
          "output_type": "stream",
          "name": "stdout",
          "text": [
            "R^2 Score: 0.07135453414482773\n"
          ]
        }
      ],
      "source": [
        "residuals_sum_of_squares = np.sum((y_true-y_pred)**2)\n",
        "total_sum_of_squares = np.sum((y_true-np.mean(y_true))**2)\n",
        "\n",
        "r2 = 1-residuals_sum_of_squares/total_sum_of_squares\n",
        "\n",
        "#Sklearn convenience method\n",
        "r2_sklearn = r2_score(y_true,y_pred)\n",
        "\n",
        "if r2 == r2_sklearn:\n",
        "    print(\"R^2 Score: {}\".format(r2))"
      ]
    },
    {
      "cell_type": "markdown",
      "metadata": {
        "id": "0PJW_rGH9thV"
      },
      "source": [
        "#### Explained Variance Score\n",
        "\n",
        "Similar to R^2 Score."
      ]
    },
    {
      "cell_type": "code",
      "execution_count": null,
      "metadata": {
        "colab": {
          "base_uri": "https://localhost:8080/"
        },
        "id": "3kpe2iNL9thV",
        "outputId": "7ea701ab-e342-4b72-8314-6e573e422489"
      },
      "outputs": [
        {
          "output_type": "stream",
          "name": "stdout",
          "text": [
            "Explained variance score: 0.07135453414482773\n"
          ]
        }
      ],
      "source": [
        "y_error = y_true-y_pred\n",
        "numerator = np.sum((y_error-np.mean(y_error))**2)\n",
        "\n",
        "explained_var = 1-numerator/total_sum_of_squares\n",
        "\n",
        "#sklearn convenience method\n",
        "explained_var_sklearn=explained_variance_score(y_true,y_pred)\n",
        "\n",
        "#if explained_var == explained_var_sklearn:\n",
        "print(\"Explained variance score: {}\".format(explained_var))"
      ]
    },
    {
      "cell_type": "markdown",
      "metadata": {
        "id": "f-AQBdKP9thW"
      },
      "source": [
        "#### Mean Absolute Error\n",
        "\n",
        "A metric which is sensitive to outliers due to the fact that it is a mean. It is calculated by taking the mean value of the absolute differences between the predicted and true values of y. One advantage is that it is easily interpretable. Conveniently, its units are the same as y's."
      ]
    },
    {
      "cell_type": "code",
      "execution_count": null,
      "metadata": {
        "colab": {
          "base_uri": "https://localhost:8080/"
        },
        "id": "PiD0uREo9thW",
        "outputId": "55a7b190-6aef-4daa-c986-cdcdf0e236e2"
      },
      "outputs": [
        {
          "output_type": "stream",
          "name": "stdout",
          "text": [
            "MAE: 8.670960568113289\n"
          ]
        }
      ],
      "source": [
        "MAE = np.mean(np.abs(y_true-y_pred))\n",
        "\n",
        "#or use sklearn\n",
        "MAE_sklearn = mean_absolute_error(y_true,y_pred)\n",
        "\n",
        "if MAE==MAE_sklearn:\n",
        "    print(\"MAE: {}\".format(MAE))"
      ]
    },
    {
      "cell_type": "markdown",
      "metadata": {
        "id": "3penJ_L49thW"
      },
      "source": [
        "#### Median Absolute Error\n",
        "\n",
        "Similar to Mean Absolute Error but it is robust to outliers (due to its reliance on the median). It is calculated as the median of the absolute differences between the predicted and true values of y. Like MSE, its units are conveniently the same as y's."
      ]
    },
    {
      "cell_type": "code",
      "execution_count": null,
      "metadata": {
        "colab": {
          "base_uri": "https://localhost:8080/"
        },
        "id": "i84XCMhT9thX",
        "outputId": "effed3aa-f82b-4788-c237-436617d4e6b0"
      },
      "outputs": [
        {
          "output_type": "stream",
          "name": "stdout",
          "text": [
            "MedAE: 6.7707753761881975\n"
          ]
        }
      ],
      "source": [
        "MedAE = np.median(np.abs(y_true-y_pred))\n",
        "\n",
        "#or use sklearn\n",
        "MedAE_sklearn = median_absolute_error(y_true,y_pred)\n",
        "\n",
        "if MedAE==MedAE_sklearn:\n",
        "    print(\"MedAE: {}\".format(MedAE))"
      ]
    },
    {
      "cell_type": "markdown",
      "metadata": {
        "id": "36R8Yfgb9thX"
      },
      "source": [
        "#### Mean Squared Log Error\n",
        "This metric penalizes errors in proportion with the size of y (even small errors are penalzied for small values of y, but small errors are not penalized for large values of y)."
      ]
    },
    {
      "cell_type": "code",
      "execution_count": null,
      "metadata": {
        "id": "457T0EpU9thX",
        "colab": {
          "base_uri": "https://localhost:8080/"
        },
        "outputId": "d978a723-4d32-4a02-9138-291820009317"
      },
      "outputs": [
        {
          "output_type": "stream",
          "name": "stdout",
          "text": [
            "Mean squared log error: 0.0030439107194306153\n"
          ]
        }
      ],
      "source": [
        "MSLE = np.mean((np.log(y_true+1)-np.log(y_pred+1))**2)\n",
        "\n",
        "#or use sklearn\n",
        "MSLE_sklearn = mean_squared_log_error(y_true,y_pred)\n",
        "\n",
        "#if MSLE==MSLE_sklearn:\n",
        "print(\"Mean squared log error: {}\".format(MSLE))"
      ]
    },
    {
      "cell_type": "code",
      "source": [],
      "metadata": {
        "id": "Ji8L1g1g95Vt"
      },
      "execution_count": null,
      "outputs": []
    }
  ],
  "metadata": {
    "kernelspec": {
      "display_name": "Python 3",
      "language": "python",
      "name": "python3"
    },
    "language_info": {
      "codemirror_mode": {
        "name": "ipython",
        "version": 3
      },
      "file_extension": ".py",
      "mimetype": "text/x-python",
      "name": "python",
      "nbconvert_exporter": "python",
      "pygments_lexer": "ipython3",
      "version": "3.6.1"
    },
    "colab": {
      "provenance": [],
      "include_colab_link": true
    }
  },
  "nbformat": 4,
  "nbformat_minor": 0
}