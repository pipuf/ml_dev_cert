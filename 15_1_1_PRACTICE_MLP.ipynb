{
  "cells": [
    {
      "cell_type": "markdown",
      "metadata": {
        "id": "view-in-github",
        "colab_type": "text"
      },
      "source": [
        "<a href=\"https://colab.research.google.com/github/pipuf/ml_dev_cert/blob/main/15_1_1_PRACTICE_MLP.ipynb\" target=\"_parent\"><img src=\"https://colab.research.google.com/assets/colab-badge.svg\" alt=\"Open In Colab\"/></a>"
      ]
    },
    {
      "cell_type": "markdown",
      "metadata": {
        "id": "4aQx2s3_w8O9"
      },
      "source": [
        "#  MLP using Keras\n",
        "\n",
        "## Description\n",
        "\n",
        "The aim of this exercise is to come up with a simple Multi-layer perceptron classifier using tensorflow."
      ]
    },
    {
      "cell_type": "markdown",
      "metadata": {
        "id": "qqPT1Q7hw8PC"
      },
      "source": [
        "# Instructions:\n",
        "1. Read the csv file as a pandas dataframe.\n",
        "2. Assign the dependent and independent variables. The target is your dependent variable. All the other columns are your predictors.\n",
        "3. Split the dataset into train and validation sets.\n",
        "4. Define the network parameters for the MLP.\n",
        "5. Initialise the weights and biases of the network.\n",
        "6. Define the MLP model with input, hidden and output layers.\n",
        "7. Fit the model on the training data.\n",
        "8. Compute and print the train and validation accuracy.\n",
        "9. Compare the output of the MLP classifier with a logistic model. Find out which model performs better and why it does so?\n",
        "\n",
        "## About the dataset\n",
        "\n",
        "The dataset used here is the Faults dataset. This dataset has several features  to predict the target.\n",
        "\n",
        "This dataset comes from research by Semeion, Research Center of Sciences of Communication. The original aim of the research was to correctly classify the type of surface defects in stainless steel plates, with six types of possible defects (plus \"other\"). The Input vector was made up of 27 indicators that approximately describe the geometric shape of the defect and its outline. According to the research paper, Semeion was commissioned by the Centro Sviluppo Materiali (Italy) for this task and therefore it is not possible to provide details on the nature of the 27 indicators used as Input vectors or the types of the 6 classes of defects.\n",
        "\n",
        "There are 34 fields. The first 27 fields describe some kind of steel plate faults seen in images. Unfortunately, there is no other information that we know of to describe these columns.\n",
        "\n",
        "- `X_Minimum`\n",
        "- `X_Maximum`\n",
        "- `Y_Minimum`\n",
        "- `Y_Maximum`\n",
        "- `Pixels_Areas`\n",
        "- `X_Perimeter`\n",
        "- `Y_Perimeter`\n",
        "- `SumofLuminosity`\n",
        "- `MinimumofLuminosity`\n",
        "- `MaximumofLuminosity`\n",
        "- `LengthofConveyer`\n",
        "- `TypeOfSteel_A300`\n",
        "- `TypeOfSteel_A400`\n",
        "- `SteelPlateThickness`\n",
        "- `Edges_Index`\n",
        "- `Empty_Index`\n",
        "- `Square_Index`\n",
        "- `OutsideXIndex`\n",
        "- `EdgesXIndex`\n",
        "- `EdgesYIndex`\n",
        "- `OutsideGlobalIndex`\n",
        "- `LogOfAreas`\n",
        "- `LogXIndex`\n",
        "- `LogYIndex`\n",
        "- `Orientation_Index`\n",
        "- `Luminosity_Index`\n",
        "- `SigmoidOfAreas`\n",
        "\n",
        "# Hints:\n",
        "\n",
        "<a href=\"https://keras.io/api/layers/merging_layers/add/\" target=\"_blank\">keras.add()</a> : To add a layer to the model\n",
        "\n",
        "<a href=\"https://keras.io/api/models/sequential/\" target=\"_blank\">keras.fit()</a> : Fit the model for the data\n",
        "\n",
        "<a href=\"https://www.tensorflow.org/api_docs/python/tf/keras/Model\" target=\"_blank\">model.evaluate()</a> : Evaluate model performance on predictors vs true values\n"
      ]
    },
    {
      "cell_type": "code",
      "execution_count": null,
      "metadata": {
        "id": "yOAz4-XKw8PF"
      },
      "outputs": [],
      "source": [
        "# Import the necessary libraries\n",
        "import tensorflow as tf\n",
        "import numpy as np\n",
        "import matplotlib.pyplot as plt\n",
        "from sklearn.model_selection import train_test_split\n",
        "import pandas as pd\n",
        "%matplotlib inline\n",
        "\n",
        "tf.keras.backend.clear_session()  # For easy reset of notebook state."
      ]
    },
    {
      "cell_type": "code",
      "execution_count": null,
      "metadata": {
        "id": "ZjOHiCEpw8PG",
        "colab": {
          "base_uri": "https://localhost:8080/"
        },
        "outputId": "ce85c29f-4ffc-42e6-eea2-cefa9ecf58e2"
      },
      "outputs": [
        {
          "output_type": "stream",
          "name": "stdout",
          "text": [
            "Downloading...\n",
            "From: https://drive.google.com/uc?id=1rIXVx7djSMDnITReilg-_t5KJAPfW2D7\n",
            "To: /content/faults.csv\n",
            "\r  0% 0.00/291k [00:00<?, ?B/s]\r100% 291k/291k [00:00<00:00, 82.5MB/s]\n"
          ]
        }
      ],
      "source": [
        "# Read the file 'faults.csv'\n",
        "!gdown \"1rIXVx7djSMDnITReilg-_t5KJAPfW2D7\"\n",
        "df = pd.read_csv('faults.csv')"
      ]
    },
    {
      "cell_type": "code",
      "execution_count": null,
      "metadata": {
        "id": "mQSci50fw8PI",
        "colab": {
          "base_uri": "https://localhost:8080/",
          "height": 255
        },
        "outputId": "056b86da-45cf-4fdf-b6dd-7c6e2c33efec"
      },
      "outputs": [
        {
          "output_type": "execute_result",
          "data": {
            "text/plain": [
              "   X_Minimum  X_Maximum  Y_Minimum  Y_Maximum  Pixels_Areas  X_Perimeter  \\\n",
              "0         42       50.0     270900     270944           267           17   \n",
              "1        645      651.0    2538079    2538108           108           10   \n",
              "2        829      835.0    1553913    1553931            71            8   \n",
              "3        853      860.0     369370     369415           176           13   \n",
              "4       1289     1306.0     498078     498335          2409           60   \n",
              "\n",
              "   Y_Perimeter  Sum_of_Luminosity  Minimum_of_Luminosity  \\\n",
              "0           44              24220                     76   \n",
              "1           30              11397                     84   \n",
              "2           19               7972                     99   \n",
              "3           45              18996                     99   \n",
              "4          260             246930                     37   \n",
              "\n",
              "   Maximum_of_Luminosity  ...  Edges_X_Index  Edges_Y_Index  \\\n",
              "0                    108  ...         0.4706         1.0000   \n",
              "1                    123  ...         0.6000         0.9667   \n",
              "2                    125  ...         0.7500         0.9474   \n",
              "3                    126  ...         0.5385         1.0000   \n",
              "4                    126  ...         0.2833         0.9885   \n",
              "\n",
              "   Outside_Global_Index  LogOfAreas  Log_X_Index  Log_Y_Index  \\\n",
              "0                   1.0      2.4265       0.9031       1.6435   \n",
              "1                   1.0      2.0334       0.7782       1.4624   \n",
              "2                   1.0      1.8513       0.7782       1.2553   \n",
              "3                   1.0      2.2455       0.8451       1.6532   \n",
              "4                   1.0      3.3818       1.2305       2.4099   \n",
              "\n",
              "   Orientation_Index  Luminosity_Index  SigmoidOfAreas  target  \n",
              "0             0.8182           -0.2913          0.5822  Pastry  \n",
              "1             0.7931           -0.1756          0.2984  Pastry  \n",
              "2             0.6667           -0.1228          0.2150  Pastry  \n",
              "3             0.8444           -0.1568          0.5212  Pastry  \n",
              "4             0.9338           -0.1992          1.0000  Pastry  \n",
              "\n",
              "[5 rows x 28 columns]"
            ],
            "text/html": [
              "\n",
              "  <div id=\"df-69a05874-20f3-4384-9241-c154e202e3ae\" class=\"colab-df-container\">\n",
              "    <div>\n",
              "<style scoped>\n",
              "    .dataframe tbody tr th:only-of-type {\n",
              "        vertical-align: middle;\n",
              "    }\n",
              "\n",
              "    .dataframe tbody tr th {\n",
              "        vertical-align: top;\n",
              "    }\n",
              "\n",
              "    .dataframe thead th {\n",
              "        text-align: right;\n",
              "    }\n",
              "</style>\n",
              "<table border=\"1\" class=\"dataframe\">\n",
              "  <thead>\n",
              "    <tr style=\"text-align: right;\">\n",
              "      <th></th>\n",
              "      <th>X_Minimum</th>\n",
              "      <th>X_Maximum</th>\n",
              "      <th>Y_Minimum</th>\n",
              "      <th>Y_Maximum</th>\n",
              "      <th>Pixels_Areas</th>\n",
              "      <th>X_Perimeter</th>\n",
              "      <th>Y_Perimeter</th>\n",
              "      <th>Sum_of_Luminosity</th>\n",
              "      <th>Minimum_of_Luminosity</th>\n",
              "      <th>Maximum_of_Luminosity</th>\n",
              "      <th>...</th>\n",
              "      <th>Edges_X_Index</th>\n",
              "      <th>Edges_Y_Index</th>\n",
              "      <th>Outside_Global_Index</th>\n",
              "      <th>LogOfAreas</th>\n",
              "      <th>Log_X_Index</th>\n",
              "      <th>Log_Y_Index</th>\n",
              "      <th>Orientation_Index</th>\n",
              "      <th>Luminosity_Index</th>\n",
              "      <th>SigmoidOfAreas</th>\n",
              "      <th>target</th>\n",
              "    </tr>\n",
              "  </thead>\n",
              "  <tbody>\n",
              "    <tr>\n",
              "      <th>0</th>\n",
              "      <td>42</td>\n",
              "      <td>50.0</td>\n",
              "      <td>270900</td>\n",
              "      <td>270944</td>\n",
              "      <td>267</td>\n",
              "      <td>17</td>\n",
              "      <td>44</td>\n",
              "      <td>24220</td>\n",
              "      <td>76</td>\n",
              "      <td>108</td>\n",
              "      <td>...</td>\n",
              "      <td>0.4706</td>\n",
              "      <td>1.0000</td>\n",
              "      <td>1.0</td>\n",
              "      <td>2.4265</td>\n",
              "      <td>0.9031</td>\n",
              "      <td>1.6435</td>\n",
              "      <td>0.8182</td>\n",
              "      <td>-0.2913</td>\n",
              "      <td>0.5822</td>\n",
              "      <td>Pastry</td>\n",
              "    </tr>\n",
              "    <tr>\n",
              "      <th>1</th>\n",
              "      <td>645</td>\n",
              "      <td>651.0</td>\n",
              "      <td>2538079</td>\n",
              "      <td>2538108</td>\n",
              "      <td>108</td>\n",
              "      <td>10</td>\n",
              "      <td>30</td>\n",
              "      <td>11397</td>\n",
              "      <td>84</td>\n",
              "      <td>123</td>\n",
              "      <td>...</td>\n",
              "      <td>0.6000</td>\n",
              "      <td>0.9667</td>\n",
              "      <td>1.0</td>\n",
              "      <td>2.0334</td>\n",
              "      <td>0.7782</td>\n",
              "      <td>1.4624</td>\n",
              "      <td>0.7931</td>\n",
              "      <td>-0.1756</td>\n",
              "      <td>0.2984</td>\n",
              "      <td>Pastry</td>\n",
              "    </tr>\n",
              "    <tr>\n",
              "      <th>2</th>\n",
              "      <td>829</td>\n",
              "      <td>835.0</td>\n",
              "      <td>1553913</td>\n",
              "      <td>1553931</td>\n",
              "      <td>71</td>\n",
              "      <td>8</td>\n",
              "      <td>19</td>\n",
              "      <td>7972</td>\n",
              "      <td>99</td>\n",
              "      <td>125</td>\n",
              "      <td>...</td>\n",
              "      <td>0.7500</td>\n",
              "      <td>0.9474</td>\n",
              "      <td>1.0</td>\n",
              "      <td>1.8513</td>\n",
              "      <td>0.7782</td>\n",
              "      <td>1.2553</td>\n",
              "      <td>0.6667</td>\n",
              "      <td>-0.1228</td>\n",
              "      <td>0.2150</td>\n",
              "      <td>Pastry</td>\n",
              "    </tr>\n",
              "    <tr>\n",
              "      <th>3</th>\n",
              "      <td>853</td>\n",
              "      <td>860.0</td>\n",
              "      <td>369370</td>\n",
              "      <td>369415</td>\n",
              "      <td>176</td>\n",
              "      <td>13</td>\n",
              "      <td>45</td>\n",
              "      <td>18996</td>\n",
              "      <td>99</td>\n",
              "      <td>126</td>\n",
              "      <td>...</td>\n",
              "      <td>0.5385</td>\n",
              "      <td>1.0000</td>\n",
              "      <td>1.0</td>\n",
              "      <td>2.2455</td>\n",
              "      <td>0.8451</td>\n",
              "      <td>1.6532</td>\n",
              "      <td>0.8444</td>\n",
              "      <td>-0.1568</td>\n",
              "      <td>0.5212</td>\n",
              "      <td>Pastry</td>\n",
              "    </tr>\n",
              "    <tr>\n",
              "      <th>4</th>\n",
              "      <td>1289</td>\n",
              "      <td>1306.0</td>\n",
              "      <td>498078</td>\n",
              "      <td>498335</td>\n",
              "      <td>2409</td>\n",
              "      <td>60</td>\n",
              "      <td>260</td>\n",
              "      <td>246930</td>\n",
              "      <td>37</td>\n",
              "      <td>126</td>\n",
              "      <td>...</td>\n",
              "      <td>0.2833</td>\n",
              "      <td>0.9885</td>\n",
              "      <td>1.0</td>\n",
              "      <td>3.3818</td>\n",
              "      <td>1.2305</td>\n",
              "      <td>2.4099</td>\n",
              "      <td>0.9338</td>\n",
              "      <td>-0.1992</td>\n",
              "      <td>1.0000</td>\n",
              "      <td>Pastry</td>\n",
              "    </tr>\n",
              "  </tbody>\n",
              "</table>\n",
              "<p>5 rows × 28 columns</p>\n",
              "</div>\n",
              "    <div class=\"colab-df-buttons\">\n",
              "\n",
              "  <div class=\"colab-df-container\">\n",
              "    <button class=\"colab-df-convert\" onclick=\"convertToInteractive('df-69a05874-20f3-4384-9241-c154e202e3ae')\"\n",
              "            title=\"Convert this dataframe to an interactive table.\"\n",
              "            style=\"display:none;\">\n",
              "\n",
              "  <svg xmlns=\"http://www.w3.org/2000/svg\" height=\"24px\" viewBox=\"0 -960 960 960\">\n",
              "    <path d=\"M120-120v-720h720v720H120Zm60-500h600v-160H180v160Zm220 220h160v-160H400v160Zm0 220h160v-160H400v160ZM180-400h160v-160H180v160Zm440 0h160v-160H620v160ZM180-180h160v-160H180v160Zm440 0h160v-160H620v160Z\"/>\n",
              "  </svg>\n",
              "    </button>\n",
              "\n",
              "  <style>\n",
              "    .colab-df-container {\n",
              "      display:flex;\n",
              "      gap: 12px;\n",
              "    }\n",
              "\n",
              "    .colab-df-convert {\n",
              "      background-color: #E8F0FE;\n",
              "      border: none;\n",
              "      border-radius: 50%;\n",
              "      cursor: pointer;\n",
              "      display: none;\n",
              "      fill: #1967D2;\n",
              "      height: 32px;\n",
              "      padding: 0 0 0 0;\n",
              "      width: 32px;\n",
              "    }\n",
              "\n",
              "    .colab-df-convert:hover {\n",
              "      background-color: #E2EBFA;\n",
              "      box-shadow: 0px 1px 2px rgba(60, 64, 67, 0.3), 0px 1px 3px 1px rgba(60, 64, 67, 0.15);\n",
              "      fill: #174EA6;\n",
              "    }\n",
              "\n",
              "    .colab-df-buttons div {\n",
              "      margin-bottom: 4px;\n",
              "    }\n",
              "\n",
              "    [theme=dark] .colab-df-convert {\n",
              "      background-color: #3B4455;\n",
              "      fill: #D2E3FC;\n",
              "    }\n",
              "\n",
              "    [theme=dark] .colab-df-convert:hover {\n",
              "      background-color: #434B5C;\n",
              "      box-shadow: 0px 1px 3px 1px rgba(0, 0, 0, 0.15);\n",
              "      filter: drop-shadow(0px 1px 2px rgba(0, 0, 0, 0.3));\n",
              "      fill: #FFFFFF;\n",
              "    }\n",
              "  </style>\n",
              "\n",
              "    <script>\n",
              "      const buttonEl =\n",
              "        document.querySelector('#df-69a05874-20f3-4384-9241-c154e202e3ae button.colab-df-convert');\n",
              "      buttonEl.style.display =\n",
              "        google.colab.kernel.accessAllowed ? 'block' : 'none';\n",
              "\n",
              "      async function convertToInteractive(key) {\n",
              "        const element = document.querySelector('#df-69a05874-20f3-4384-9241-c154e202e3ae');\n",
              "        const dataTable =\n",
              "          await google.colab.kernel.invokeFunction('convertToInteractive',\n",
              "                                                    [key], {});\n",
              "        if (!dataTable) return;\n",
              "\n",
              "        const docLinkHtml = 'Like what you see? Visit the ' +\n",
              "          '<a target=\"_blank\" href=https://colab.research.google.com/notebooks/data_table.ipynb>data table notebook</a>'\n",
              "          + ' to learn more about interactive tables.';\n",
              "        element.innerHTML = '';\n",
              "        dataTable['output_type'] = 'display_data';\n",
              "        await google.colab.output.renderOutput(dataTable, element);\n",
              "        const docLink = document.createElement('div');\n",
              "        docLink.innerHTML = docLinkHtml;\n",
              "        element.appendChild(docLink);\n",
              "      }\n",
              "    </script>\n",
              "  </div>\n",
              "\n",
              "\n",
              "<div id=\"df-8c44fdcd-1ccf-4b64-a5f5-4990df8a323a\">\n",
              "  <button class=\"colab-df-quickchart\" onclick=\"quickchart('df-8c44fdcd-1ccf-4b64-a5f5-4990df8a323a')\"\n",
              "            title=\"Suggest charts\"\n",
              "            style=\"display:none;\">\n",
              "\n",
              "<svg xmlns=\"http://www.w3.org/2000/svg\" height=\"24px\"viewBox=\"0 0 24 24\"\n",
              "     width=\"24px\">\n",
              "    <g>\n",
              "        <path d=\"M19 3H5c-1.1 0-2 .9-2 2v14c0 1.1.9 2 2 2h14c1.1 0 2-.9 2-2V5c0-1.1-.9-2-2-2zM9 17H7v-7h2v7zm4 0h-2V7h2v10zm4 0h-2v-4h2v4z\"/>\n",
              "    </g>\n",
              "</svg>\n",
              "  </button>\n",
              "\n",
              "<style>\n",
              "  .colab-df-quickchart {\n",
              "      --bg-color: #E8F0FE;\n",
              "      --fill-color: #1967D2;\n",
              "      --hover-bg-color: #E2EBFA;\n",
              "      --hover-fill-color: #174EA6;\n",
              "      --disabled-fill-color: #AAA;\n",
              "      --disabled-bg-color: #DDD;\n",
              "  }\n",
              "\n",
              "  [theme=dark] .colab-df-quickchart {\n",
              "      --bg-color: #3B4455;\n",
              "      --fill-color: #D2E3FC;\n",
              "      --hover-bg-color: #434B5C;\n",
              "      --hover-fill-color: #FFFFFF;\n",
              "      --disabled-bg-color: #3B4455;\n",
              "      --disabled-fill-color: #666;\n",
              "  }\n",
              "\n",
              "  .colab-df-quickchart {\n",
              "    background-color: var(--bg-color);\n",
              "    border: none;\n",
              "    border-radius: 50%;\n",
              "    cursor: pointer;\n",
              "    display: none;\n",
              "    fill: var(--fill-color);\n",
              "    height: 32px;\n",
              "    padding: 0;\n",
              "    width: 32px;\n",
              "  }\n",
              "\n",
              "  .colab-df-quickchart:hover {\n",
              "    background-color: var(--hover-bg-color);\n",
              "    box-shadow: 0 1px 2px rgba(60, 64, 67, 0.3), 0 1px 3px 1px rgba(60, 64, 67, 0.15);\n",
              "    fill: var(--button-hover-fill-color);\n",
              "  }\n",
              "\n",
              "  .colab-df-quickchart-complete:disabled,\n",
              "  .colab-df-quickchart-complete:disabled:hover {\n",
              "    background-color: var(--disabled-bg-color);\n",
              "    fill: var(--disabled-fill-color);\n",
              "    box-shadow: none;\n",
              "  }\n",
              "\n",
              "  .colab-df-spinner {\n",
              "    border: 2px solid var(--fill-color);\n",
              "    border-color: transparent;\n",
              "    border-bottom-color: var(--fill-color);\n",
              "    animation:\n",
              "      spin 1s steps(1) infinite;\n",
              "  }\n",
              "\n",
              "  @keyframes spin {\n",
              "    0% {\n",
              "      border-color: transparent;\n",
              "      border-bottom-color: var(--fill-color);\n",
              "      border-left-color: var(--fill-color);\n",
              "    }\n",
              "    20% {\n",
              "      border-color: transparent;\n",
              "      border-left-color: var(--fill-color);\n",
              "      border-top-color: var(--fill-color);\n",
              "    }\n",
              "    30% {\n",
              "      border-color: transparent;\n",
              "      border-left-color: var(--fill-color);\n",
              "      border-top-color: var(--fill-color);\n",
              "      border-right-color: var(--fill-color);\n",
              "    }\n",
              "    40% {\n",
              "      border-color: transparent;\n",
              "      border-right-color: var(--fill-color);\n",
              "      border-top-color: var(--fill-color);\n",
              "    }\n",
              "    60% {\n",
              "      border-color: transparent;\n",
              "      border-right-color: var(--fill-color);\n",
              "    }\n",
              "    80% {\n",
              "      border-color: transparent;\n",
              "      border-right-color: var(--fill-color);\n",
              "      border-bottom-color: var(--fill-color);\n",
              "    }\n",
              "    90% {\n",
              "      border-color: transparent;\n",
              "      border-bottom-color: var(--fill-color);\n",
              "    }\n",
              "  }\n",
              "</style>\n",
              "\n",
              "  <script>\n",
              "    async function quickchart(key) {\n",
              "      const quickchartButtonEl =\n",
              "        document.querySelector('#' + key + ' button');\n",
              "      quickchartButtonEl.disabled = true;  // To prevent multiple clicks.\n",
              "      quickchartButtonEl.classList.add('colab-df-spinner');\n",
              "      try {\n",
              "        const charts = await google.colab.kernel.invokeFunction(\n",
              "            'suggestCharts', [key], {});\n",
              "      } catch (error) {\n",
              "        console.error('Error during call to suggestCharts:', error);\n",
              "      }\n",
              "      quickchartButtonEl.classList.remove('colab-df-spinner');\n",
              "      quickchartButtonEl.classList.add('colab-df-quickchart-complete');\n",
              "    }\n",
              "    (() => {\n",
              "      let quickchartButtonEl =\n",
              "        document.querySelector('#df-8c44fdcd-1ccf-4b64-a5f5-4990df8a323a button');\n",
              "      quickchartButtonEl.style.display =\n",
              "        google.colab.kernel.accessAllowed ? 'block' : 'none';\n",
              "    })();\n",
              "  </script>\n",
              "</div>\n",
              "\n",
              "    </div>\n",
              "  </div>\n"
            ],
            "application/vnd.google.colaboratory.intrinsic+json": {
              "type": "dataframe",
              "variable_name": "df"
            }
          },
          "metadata": {},
          "execution_count": 81
        }
      ],
      "source": [
        "# Take a quick look at the dataset\n",
        "df.head()"
      ]
    },
    {
      "cell_type": "code",
      "execution_count": null,
      "metadata": {
        "id": "qJLeMn9Vw8PK"
      },
      "outputs": [],
      "source": [
        "# We use one-hot-encoding to encode the 'target' labels using pd.get_dummies\n",
        "\n",
        "one_hot_df = pd.get_dummies(df['target'], prefix='target')"
      ]
    },
    {
      "cell_type": "code",
      "execution_count": null,
      "metadata": {
        "id": "inowBKFtw8PK"
      },
      "outputs": [],
      "source": [
        "# The predictor variables are all columns except target\n",
        "X = df.drop(['target'],axis=1).values\n",
        "# The response variable is the one-hot-encoded target values\n",
        "y = one_hot_df.values"
      ]
    },
    {
      "cell_type": "code",
      "source": [
        "print(np.isnan(X).sum(), np.isinf(X).sum())\n",
        "print(np.isnan(y).sum(), np.isinf(y).sum())"
      ],
      "metadata": {
        "colab": {
          "base_uri": "https://localhost:8080/"
        },
        "id": "hl0U3E5UaaqD",
        "outputId": "959c4b64-f17e-4323-fe23-8e76df69c9b2"
      },
      "execution_count": null,
      "outputs": [
        {
          "output_type": "stream",
          "name": "stdout",
          "text": [
            "80 0\n",
            "0 0\n"
          ]
        }
      ]
    },
    {
      "cell_type": "code",
      "source": [
        "df = pd.DataFrame(X)\n",
        "df = df.fillna(df.mean())\n",
        "X = df.to_numpy()\n",
        "\n",
        "print(np.isnan(X).sum(), np.isinf(X).sum())\n",
        "print(np.isnan(y).sum(), np.isinf(y).sum())"
      ],
      "metadata": {
        "colab": {
          "base_uri": "https://localhost:8080/"
        },
        "id": "-RDO3IYTZlQI",
        "outputId": "3a3b0ae6-ccf7-4334-c80c-c8acfad17bff"
      },
      "execution_count": null,
      "outputs": [
        {
          "output_type": "stream",
          "name": "stdout",
          "text": [
            "0 0\n",
            "0 0\n"
          ]
        }
      ]
    },
    {
      "cell_type": "code",
      "execution_count": null,
      "metadata": {
        "id": "9BVIfx1Ow8PM",
        "colab": {
          "base_uri": "https://localhost:8080/"
        },
        "outputId": "6c6590d4-7dcd-44fb-c153-ed7445bc21b4"
      },
      "outputs": [
        {
          "output_type": "stream",
          "name": "stdout",
          "text": [
            "(1552, 27) (389, 27) (1552, 7) (389, 7)\n"
          ]
        }
      ],
      "source": [
        "# We divide our data into test and train sets with 80% training size\n",
        "\n",
        "X_train, X_test, y_train, y_test = train_test_split(X,y,train_size=0.8)\n",
        "print(X_train.shape, X_test.shape, y_train.shape, y_test.shape)"
      ]
    },
    {
      "cell_type": "code",
      "execution_count": null,
      "metadata": {
        "id": "-ISUAHD0w8PO"
      },
      "outputs": [],
      "source": [
        "# To build the MLP, we will use the keras library\n",
        "\n",
        "model = tf.keras.models.Sequential(name='MLP')\n",
        "\n",
        "# To initialise our model we set some parameters\n",
        "# commonly defined in an MLP design\n",
        "\n",
        "# The number of nodes in a hidden layer\n",
        "# (n_input + n_output) // 2\n",
        "# (27 + 7) // 2 = 17\n",
        "n_hidden = 17\n",
        "\n",
        "# The number of nodes in the input layer (features)\n",
        "n_input = 27\n",
        "\n",
        "# The number of nodes in the output layer\n",
        "n_output = 7"
      ]
    },
    {
      "cell_type": "code",
      "execution_count": null,
      "metadata": {
        "id": "clMdg40Vw8PQ"
      },
      "outputs": [],
      "source": [
        "# Add the input layer to specify the shape of the inputs\n",
        "model.add(tf.keras.layers.InputLayer(input_shape=(n_input,)))\n",
        "\n",
        "# We add the hidden layer with `n_hidden` number of neurons\n",
        "# and 'relu' activation\n",
        "model.add((tf.keras.layers.Dense(n_hidden,  activation='relu',name='hidden')))\n",
        "\n",
        "# The second layer is the final layer in our case, using 'softmax' on the output labels\n",
        "model.add(tf.keras.layers.Dense(n_output, activation = 'softmax',name='output'))"
      ]
    },
    {
      "cell_type": "code",
      "execution_count": null,
      "metadata": {
        "id": "FxmFhEU2w8PR"
      },
      "outputs": [],
      "source": [
        "# Now we compile the model using 'categorical_crossentropy' loss,\n",
        "# optimizer as 'sgd' and 'accuracy' as a metric\n",
        "\n",
        "\n",
        "model.compile(optimizer = tf.keras.optimizers.SGD(learning_rate=0.01, clipvalue=1.0),  # Try a lower learning rate\n",
        "              loss='categorical_crossentropy',\n",
        "              metrics=['accuracy'])"
      ]
    },
    {
      "cell_type": "code",
      "execution_count": null,
      "metadata": {
        "id": "zv4mCxLdw8PS",
        "colab": {
          "base_uri": "https://localhost:8080/"
        },
        "outputId": "e55b164e-0bfe-42fa-ad54-e3e92f9c00aa"
      },
      "outputs": [
        {
          "output_type": "stream",
          "name": "stdout",
          "text": [
            "Model: \"MLP\"\n",
            "_________________________________________________________________\n",
            " Layer (type)                Output Shape              Param #   \n",
            "=================================================================\n",
            " hidden (Dense)              (None, 17)                476       \n",
            "                                                                 \n",
            " output (Dense)              (None, 7)                 126       \n",
            "                                                                 \n",
            "=================================================================\n",
            "Total params: 602 (2.35 KB)\n",
            "Trainable params: 602 (2.35 KB)\n",
            "Non-trainable params: 0 (0.00 Byte)\n",
            "_________________________________________________________________\n"
          ]
        }
      ],
      "source": [
        "# You can see an overview of the model you built using .summary()\n",
        "model.summary()"
      ]
    },
    {
      "cell_type": "code",
      "execution_count": null,
      "metadata": {
        "id": "Z7yLVb8Lw8PT",
        "colab": {
          "base_uri": "https://localhost:8080/"
        },
        "outputId": "02812b66-e436-470a-adb0-3319288b03e1"
      },
      "outputs": [
        {
          "output_type": "stream",
          "name": "stdout",
          "text": [
            "Epoch 1/50\n",
            "39/39 [==============================] - 1s 7ms/step - loss: 102955.9297 - accuracy: 0.2498 - val_loss: 60972.9844 - val_accuracy: 0.1543\n",
            "Epoch 2/50\n",
            "39/39 [==============================] - 0s 3ms/step - loss: 42490.6523 - accuracy: 0.2587 - val_loss: 17346.7676 - val_accuracy: 0.3859\n",
            "Epoch 3/50\n",
            "39/39 [==============================] - 0s 3ms/step - loss: 28848.5156 - accuracy: 0.2691 - val_loss: 34004.6094 - val_accuracy: 0.1350\n",
            "Epoch 4/50\n",
            "39/39 [==============================] - 0s 3ms/step - loss: 35450.5703 - accuracy: 0.2595 - val_loss: 33082.4062 - val_accuracy: 0.3666\n",
            "Epoch 5/50\n",
            "39/39 [==============================] - 0s 3ms/step - loss: 35247.8203 - accuracy: 0.2635 - val_loss: 23326.8184 - val_accuracy: 0.3666\n",
            "Epoch 6/50\n",
            "39/39 [==============================] - 0s 3ms/step - loss: 34714.1836 - accuracy: 0.2554 - val_loss: 66179.5078 - val_accuracy: 0.1318\n",
            "Epoch 7/50\n",
            "39/39 [==============================] - 0s 3ms/step - loss: 40467.2539 - accuracy: 0.2603 - val_loss: 37001.5547 - val_accuracy: 0.2154\n",
            "Epoch 8/50\n",
            "39/39 [==============================] - 0s 3ms/step - loss: 36702.0977 - accuracy: 0.2571 - val_loss: 49173.3867 - val_accuracy: 0.1994\n",
            "Epoch 9/50\n",
            "39/39 [==============================] - 0s 3ms/step - loss: 49740.2852 - accuracy: 0.2603 - val_loss: 77329.8203 - val_accuracy: 0.3215\n",
            "Epoch 10/50\n",
            "39/39 [==============================] - 0s 3ms/step - loss: 49025.3711 - accuracy: 0.2619 - val_loss: 25923.0059 - val_accuracy: 0.3987\n",
            "Epoch 11/50\n",
            "39/39 [==============================] - 0s 3ms/step - loss: 54471.6602 - accuracy: 0.2764 - val_loss: 89485.1562 - val_accuracy: 0.4051\n",
            "Epoch 12/50\n",
            "39/39 [==============================] - 0s 3ms/step - loss: 55502.0547 - accuracy: 0.2385 - val_loss: 43904.3086 - val_accuracy: 0.3183\n",
            "Epoch 13/50\n",
            "39/39 [==============================] - 0s 3ms/step - loss: 52399.7500 - accuracy: 0.2635 - val_loss: 46666.0273 - val_accuracy: 0.1479\n",
            "Epoch 14/50\n",
            "39/39 [==============================] - 0s 3ms/step - loss: 49279.7500 - accuracy: 0.2748 - val_loss: 50877.0859 - val_accuracy: 0.4534\n",
            "Epoch 15/50\n",
            "39/39 [==============================] - 0s 3ms/step - loss: 45637.8594 - accuracy: 0.2869 - val_loss: 37834.4688 - val_accuracy: 0.0804\n",
            "Epoch 16/50\n",
            "39/39 [==============================] - 0s 3ms/step - loss: 37455.0391 - accuracy: 0.2691 - val_loss: 48724.7539 - val_accuracy: 0.2926\n",
            "Epoch 17/50\n",
            "39/39 [==============================] - 0s 3ms/step - loss: 34039.1914 - accuracy: 0.2772 - val_loss: 53020.2031 - val_accuracy: 0.1801\n",
            "Epoch 18/50\n",
            "39/39 [==============================] - 0s 3ms/step - loss: 30066.7363 - accuracy: 0.2595 - val_loss: 12282.4463 - val_accuracy: 0.3344\n",
            "Epoch 19/50\n",
            "39/39 [==============================] - 0s 3ms/step - loss: 28989.3047 - accuracy: 0.2716 - val_loss: 37646.0078 - val_accuracy: 0.1254\n",
            "Epoch 20/50\n",
            "39/39 [==============================] - 0s 3ms/step - loss: 22136.3418 - accuracy: 0.2603 - val_loss: 35424.4727 - val_accuracy: 0.0804\n",
            "Epoch 21/50\n",
            "39/39 [==============================] - 0s 3ms/step - loss: 22536.6562 - accuracy: 0.2434 - val_loss: 24592.0410 - val_accuracy: 0.2154\n",
            "Epoch 22/50\n",
            "39/39 [==============================] - 0s 3ms/step - loss: 15792.0420 - accuracy: 0.2820 - val_loss: 12466.4971 - val_accuracy: 0.3730\n",
            "Epoch 23/50\n",
            "39/39 [==============================] - 0s 3ms/step - loss: 8326.4863 - accuracy: 0.2740 - val_loss: 4480.6475 - val_accuracy: 0.3473\n",
            "Epoch 24/50\n",
            "39/39 [==============================] - 0s 3ms/step - loss: 5459.5767 - accuracy: 0.2707 - val_loss: 4122.3164 - val_accuracy: 0.2444\n",
            "Epoch 25/50\n",
            "39/39 [==============================] - 0s 4ms/step - loss: 1524.4435 - accuracy: 0.3344 - val_loss: 26.2218 - val_accuracy: 0.3891\n",
            "Epoch 26/50\n",
            "39/39 [==============================] - 0s 3ms/step - loss: 32.5008 - accuracy: 0.3570 - val_loss: 135.1941 - val_accuracy: 0.3569\n",
            "Epoch 27/50\n",
            "39/39 [==============================] - 0s 3ms/step - loss: 27.1121 - accuracy: 0.3457 - val_loss: 13.2940 - val_accuracy: 0.3633\n",
            "Epoch 28/50\n",
            "39/39 [==============================] - 0s 3ms/step - loss: 8.2301 - accuracy: 0.3473 - val_loss: 14.3750 - val_accuracy: 0.3569\n",
            "Epoch 29/50\n",
            "39/39 [==============================] - 0s 3ms/step - loss: 3.5567 - accuracy: 0.3457 - val_loss: 11.4276 - val_accuracy: 0.3601\n",
            "Epoch 30/50\n",
            "39/39 [==============================] - 0s 3ms/step - loss: 3.4249 - accuracy: 0.3457 - val_loss: 11.0636 - val_accuracy: 0.3601\n",
            "Epoch 31/50\n",
            "39/39 [==============================] - 0s 3ms/step - loss: 2.7303 - accuracy: 0.3465 - val_loss: 10.9183 - val_accuracy: 0.3569\n",
            "Epoch 32/50\n",
            "39/39 [==============================] - 0s 5ms/step - loss: 2.2687 - accuracy: 0.3449 - val_loss: 10.3751 - val_accuracy: 0.3569\n",
            "Epoch 33/50\n",
            "39/39 [==============================] - 0s 6ms/step - loss: 1.7328 - accuracy: 0.3457 - val_loss: 10.3718 - val_accuracy: 0.3569\n",
            "Epoch 34/50\n",
            "39/39 [==============================] - 0s 5ms/step - loss: 1.7288 - accuracy: 0.3457 - val_loss: 10.3687 - val_accuracy: 0.3569\n",
            "Epoch 35/50\n",
            "39/39 [==============================] - 0s 4ms/step - loss: 1.7251 - accuracy: 0.3457 - val_loss: 10.3660 - val_accuracy: 0.3569\n",
            "Epoch 36/50\n",
            "39/39 [==============================] - 0s 4ms/step - loss: 1.7217 - accuracy: 0.3457 - val_loss: 10.3634 - val_accuracy: 0.3569\n",
            "Epoch 37/50\n",
            "39/39 [==============================] - 0s 5ms/step - loss: 1.7186 - accuracy: 0.3457 - val_loss: 10.3611 - val_accuracy: 0.3569\n",
            "Epoch 38/50\n",
            "39/39 [==============================] - 0s 5ms/step - loss: 1.7158 - accuracy: 0.3457 - val_loss: 10.3590 - val_accuracy: 0.3569\n",
            "Epoch 39/50\n",
            "39/39 [==============================] - 0s 4ms/step - loss: 1.7131 - accuracy: 0.3457 - val_loss: 10.3571 - val_accuracy: 0.3569\n",
            "Epoch 40/50\n",
            "39/39 [==============================] - 0s 5ms/step - loss: 1.7107 - accuracy: 0.3457 - val_loss: 10.3553 - val_accuracy: 0.3569\n",
            "Epoch 41/50\n",
            "39/39 [==============================] - 0s 5ms/step - loss: 1.7085 - accuracy: 0.3457 - val_loss: 10.3537 - val_accuracy: 0.3569\n",
            "Epoch 42/50\n",
            "39/39 [==============================] - 0s 5ms/step - loss: 1.7064 - accuracy: 0.3457 - val_loss: 10.3522 - val_accuracy: 0.3569\n",
            "Epoch 43/50\n",
            "39/39 [==============================] - 0s 5ms/step - loss: 1.7045 - accuracy: 0.3457 - val_loss: 10.3508 - val_accuracy: 0.3569\n",
            "Epoch 44/50\n",
            "39/39 [==============================] - 0s 5ms/step - loss: 1.7027 - accuracy: 0.3457 - val_loss: 10.3496 - val_accuracy: 0.3569\n",
            "Epoch 45/50\n",
            "39/39 [==============================] - 0s 6ms/step - loss: 1.7010 - accuracy: 0.3457 - val_loss: 10.3484 - val_accuracy: 0.3569\n",
            "Epoch 46/50\n",
            "39/39 [==============================] - 0s 4ms/step - loss: 1.6995 - accuracy: 0.3457 - val_loss: 10.3473 - val_accuracy: 0.3569\n",
            "Epoch 47/50\n",
            "39/39 [==============================] - 0s 5ms/step - loss: 1.6981 - accuracy: 0.3457 - val_loss: 10.3463 - val_accuracy: 0.3569\n",
            "Epoch 48/50\n",
            "39/39 [==============================] - 0s 4ms/step - loss: 1.6967 - accuracy: 0.3457 - val_loss: 10.3454 - val_accuracy: 0.3569\n",
            "Epoch 49/50\n",
            "39/39 [==============================] - 0s 3ms/step - loss: 1.6954 - accuracy: 0.3457 - val_loss: 10.3446 - val_accuracy: 0.3569\n",
            "Epoch 50/50\n",
            "39/39 [==============================] - 0s 3ms/step - loss: 1.6943 - accuracy: 0.3457 - val_loss: 10.3438 - val_accuracy: 0.3569\n"
          ]
        }
      ],
      "source": [
        "# We fit the model, and save it to a variable 'history' that can be\n",
        "# accessed later to analyze the training profile\n",
        "# We also set validation_split=0.2 for 20% of training data to be\n",
        "# used for validation\n",
        "# verbose=0 means you will not see the output after every epoch.\n",
        "# Set verbose=1 to see it\n",
        "\n",
        "history = model.fit(X_train, y_train, epochs=50, batch_size=32, verbose=1, validation_split=0.2)"
      ]
    },
    {
      "cell_type": "code",
      "execution_count": null,
      "metadata": {
        "id": "blZ1QLkYw8PT",
        "colab": {
          "base_uri": "https://localhost:8080/",
          "height": 445
        },
        "outputId": "6af6f0d7-751d-428f-a142-e4fc48e6ea8e"
      },
      "outputs": [
        {
          "output_type": "execute_result",
          "data": {
            "text/plain": [
              "Text(0.5, 0.98, 'MLP Training')"
            ]
          },
          "metadata": {},
          "execution_count": 97
        },
        {
          "output_type": "display_data",
          "data": {
            "text/plain": [
              "<Figure size 1600x400 with 2 Axes>"
            ],
            "image/png": "[encoded data removed]"
          },
          "metadata": {}
        }
      ],
      "source": [
        "# Here we plot the training and validation loss and accuracy\n",
        "\n",
        "fig, ax = plt.subplots(1,2,figsize = (16,4))\n",
        "ax[0].plot(history.history['loss'],'r',label = 'Training Loss')\n",
        "ax[0].plot(history.history['val_loss'],'b',label = 'Validation Loss')\n",
        "ax[1].plot(history.history['accuracy'],'r',label = 'Training Accuracy')\n",
        "ax[1].plot(history.history['val_accuracy'],'b',label = 'Validation Accuracy')\n",
        "ax[0].legend()\n",
        "ax[1].legend()\n",
        "ax[0].set_xlabel('Epochs')\n",
        "ax[1].set_xlabel('Epochs');\n",
        "ax[0].set_ylabel('Loss')\n",
        "ax[1].set_ylabel('Accuracy %');\n",
        "fig.suptitle('MLP Training', fontsize = 24)"
      ]
    },
    {
      "cell_type": "code",
      "execution_count": null,
      "metadata": {
        "id": "WoqnAVM5w8PU",
        "colab": {
          "base_uri": "https://localhost:8080/"
        },
        "outputId": "b0f0257f-22ae-451e-e201-321a7cf1de4e"
      },
      "outputs": [
        {
          "output_type": "stream",
          "name": "stdout",
          "text": [
            "49/49 [==============================] - 0s 2ms/step - loss: 3.4270 - accuracy: 0.3479\n",
            "13/13 [==============================] - 0s 3ms/step - loss: 1.6584 - accuracy: 0.3599\n",
            "The training set accuracy for the model is 0.3479381501674652    \n",
            " The test set accuracy for the model is 0.3598971664905548\n"
          ]
        }
      ],
      "source": [
        "# Once you have near-perfect validation accuracy, it's time to evaluate model performance on test set\n",
        "\n",
        "# Evaluate the model on training data\n",
        "train_accuracy = model.evaluate(X_train, y_train)[1]\n",
        "# Evaluate the model on test data\n",
        "test_accuracy = model.evaluate(X_test, y_test)[1]\n",
        "print(f'The training set accuracy for the model is {train_accuracy}\\\n",
        "    \\n The test set accuracy for the model is {test_accuracy}')"
      ]
    },
    {
      "cell_type": "code",
      "source": [
        "# compute Precision, Recall, F1 for each class"
      ],
      "metadata": {
        "id": "bPjeX2gE2Yzl"
      },
      "execution_count": null,
      "outputs": []
    }
  ],
  "metadata": {
    "kernelspec": {
      "display_name": "Python 3",
      "language": "python",
      "name": "python3"
    },
    "language_info": {
      "codemirror_mode": {
        "name": "ipython",
        "version": 3
      },
      "file_extension": ".py",
      "mimetype": "text/x-python",
      "name": "python",
      "nbconvert_exporter": "python",
      "pygments_lexer": "ipython3",
      "version": "3.8.5"
    },
    "colab": {
      "provenance": [],
      "include_colab_link": true
    }
  },
  "nbformat": 4,
  "nbformat_minor": 0
}