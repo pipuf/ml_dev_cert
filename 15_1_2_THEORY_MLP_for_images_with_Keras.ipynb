{
  "cells": [
    {
      "cell_type": "markdown",
      "metadata": {
        "id": "view-in-github",
        "colab_type": "text"
      },
      "source": [
        "<a href=\"https://colab.research.google.com/github/pipuf/ml_dev_cert/blob/main/Copy_of_15_1_2_THEORY_MLP_for_images_with_Keras.ipynb\" target=\"_parent\"><img src=\"https://colab.research.google.com/assets/colab-badge.svg\" alt=\"Open In Colab\"/></a>"
      ]
    },
    {
      "cell_type": "markdown",
      "metadata": {
        "id": "7-maNnUPepVg"
      },
      "source": [
        "# MLP for images with Keras\n",
        "\n",
        "In this notebook I will show you how to build and train a MLP for image classification and regression usign MNIST dataset."
      ]
    },
    {
      "cell_type": "code",
      "execution_count": null,
      "metadata": {
        "id": "uMJzPnoBepVk"
      },
      "outputs": [],
      "source": [
        "from sklearn.metrics import accuracy_score\n",
        "from sklearn.model_selection import GridSearchCV\n",
        "\n",
        "import tensorflow as tf\n",
        "from tensorflow import keras\n",
        "from tensorflow.keras import layers\n",
        "\n",
        "import matplotlib.pyplot as plt\n",
        "\n",
        "%matplotlib inline"
      ]
    },
    {
      "cell_type": "markdown",
      "metadata": {
        "id": "cewRbQPZepVm"
      },
      "source": [
        "## Load the data"
      ]
    },
    {
      "cell_type": "code",
      "execution_count": null,
      "metadata": {
        "id": "aPCEx10bepVm",
        "colab": {
          "base_uri": "https://localhost:8080/"
        },
        "outputId": "57181086-ca48-414f-cef5-063f00010ffc"
      },
      "outputs": [
        {
          "output_type": "stream",
          "name": "stdout",
          "text": [
            "Downloading data from https://storage.googleapis.com/tensorflow/tf-keras-datasets/mnist.npz\n",
            "\u001b[1m11490434/11490434\u001b[0m \u001b[32m━━━━━━━━━━━━━━━━━━━━\u001b[0m\u001b[37m\u001b[0m \u001b[1m0s\u001b[0m 0us/step\n",
            "x_train.shape = (60000, 28, 28) - y_train.shape = (60000,)\n",
            "x_test.shape = (10000, 28, 28) - y_test.shape = (10000,)\n"
          ]
        }
      ],
      "source": [
        "# Load MNIST dataset\n",
        "(x_train, y_train), (x_test, y_test) = keras.datasets.mnist.load_data()\n",
        "\n",
        "print(f'x_train.shape = {x_train.shape} - y_train.shape = {y_train.shape}')\n",
        "print(f'x_test.shape = {x_test.shape} - y_test.shape = {y_test.shape}')"
      ]
    },
    {
      "cell_type": "code",
      "source": [
        "len(x_train[0])"
      ],
      "metadata": {
        "colab": {
          "base_uri": "https://localhost:8080/"
        },
        "id": "Ks8ISolsta-M",
        "outputId": "d0337cd4-7314-4771-87ca-ff5daec1e531"
      },
      "execution_count": null,
      "outputs": [
        {
          "output_type": "execute_result",
          "data": {
            "text/plain": [
              "28"
            ]
          },
          "metadata": {},
          "execution_count": 3
        }
      ]
    },
    {
      "cell_type": "code",
      "execution_count": null,
      "metadata": {
        "id": "r68EwLTOepVn",
        "colab": {
          "base_uri": "https://localhost:8080/"
        },
        "outputId": "dd67eb21-ab93-4c2e-9edf-2300f922e598"
      },
      "outputs": [
        {
          "output_type": "execute_result",
          "data": {
            "text/plain": [
              "array([5, 0, 4, 1, 9, 2, 1, 3, 1, 4], dtype=uint8)"
            ]
          },
          "metadata": {},
          "execution_count": 4
        }
      ],
      "source": [
        "y_train[:10]"
      ]
    },
    {
      "cell_type": "markdown",
      "metadata": {
        "id": "EHuver9kepVo"
      },
      "source": [
        "## Feature Engineering"
      ]
    },
    {
      "cell_type": "code",
      "execution_count": null,
      "metadata": {
        "id": "XmMWhxD6epVo",
        "colab": {
          "base_uri": "https://localhost:8080/"
        },
        "outputId": "fc3ed463-daf0-4a22-8448-a819de9e3ccf"
      },
      "outputs": [
        {
          "output_type": "stream",
          "name": "stdout",
          "text": [
            "New x_train.shape: (60000, 784)\n",
            "New x_test.shape: (10000, 784)\n"
          ]
        }
      ],
      "source": [
        "# It's common to use MinMax(0,1) normalization for images\n",
        "x_train = x_train.astype(\"float32\") / 255.\n",
        "x_test = x_test.astype(\"float32\") / 255\n",
        "\n",
        "# We can feed our MLP with squared images, we must flatten them first\n",
        "x_train = x_train.reshape(len(x_train), -1)\n",
        "x_test = x_test.reshape(len(x_test), -1)\n",
        "print(f'New x_train.shape: {x_train.shape}')\n",
        "print(f'New x_test.shape: {x_test.shape}')\n"
      ]
    },
    {
      "cell_type": "code",
      "execution_count": null,
      "metadata": {
        "id": "mIjjQYHEepVp",
        "colab": {
          "base_uri": "https://localhost:8080/"
        },
        "outputId": "5ee82888-ae92-476d-c29c-3c108bbf0605"
      },
      "outputs": [
        {
          "output_type": "execute_result",
          "data": {
            "text/plain": [
              "(784,)"
            ]
          },
          "metadata": {},
          "execution_count": 6
        }
      ],
      "source": [
        "x_train[0].shape"
      ]
    },
    {
      "cell_type": "code",
      "source": [
        "from ipywidgets import interact\n",
        "import ipywidgets as widgets\n",
        "\n",
        "plt.gray()\n",
        "\n",
        "@interact(i=(0, len(x_train)-1))\n",
        "def show_image(i):\n",
        "    plt.imshow(x_train[i].reshape(28, 28))\n",
        "    plt.title(y_train[i])\n",
        "    plt.show()"
      ],
      "metadata": {
        "colab": {
          "base_uri": "https://localhost:8080/",
          "height": 501,
          "referenced_widgets": [
            "06b680c854894bdd84028cbae4191ae2",
            "ec0c2b1378314f998209f17deeef58e9",
            "06a183151e154033b4d67adad882f914",
            "52942950a8aa48d085aefc0e41e119b3",
            "29066191a16f44bf9cfaeb9df3e3d4cc",
            "621a956e9cf94f72a5484a03fe887d00",
            "a6a0e1fc72404a998647a35d945b8938"
          ]
        },
        "id": "gA0NsQJEh1pI",
        "outputId": "62c8b9e7-bb90-4714-9075-3febff185c04"
      },
      "execution_count": null,
      "outputs": [
        {
          "output_type": "display_data",
          "data": {
            "text/plain": [
              "<Figure size 640x480 with 0 Axes>"
            ]
          },
          "metadata": {}
        },
        {
          "output_type": "display_data",
          "data": {
            "text/plain": [
              "interactive(children=(IntSlider(value=29999, description='i', max=59999), Output()), _dom_classes=('widget-int…"
            ],
            "application/vnd.jupyter.widget-view+json": {
              "version_major": 2,
              "version_minor": 0,
              "model_id": "06b680c854894bdd84028cbae4191ae2"
            }
          },
          "metadata": {}
        }
      ]
    },
    {
      "cell_type": "markdown",
      "metadata": {
        "id": "DPgUDhezepVs"
      },
      "source": [
        "## Building the model\n",
        "\n",
        "It will have:\n",
        "\n",
        "    - 2 hidden layers with 16 neurons each\n",
        "    - 1 output layer with 10 neurons (1 for each class)\n",
        "    - Batch size of 32 during training\n"
      ]
    },
    {
      "cell_type": "code",
      "source": [
        "x_train[0].shape"
      ],
      "metadata": {
        "colab": {
          "base_uri": "https://localhost:8080/"
        },
        "id": "tClu5SxDmYWT",
        "outputId": "28a73b81-fc01-4cb7-f745-dcafaff7714b"
      },
      "execution_count": null,
      "outputs": [
        {
          "output_type": "execute_result",
          "data": {
            "text/plain": [
              "(784,)"
            ]
          },
          "metadata": {},
          "execution_count": 9
        }
      ]
    },
    {
      "cell_type": "code",
      "execution_count": null,
      "metadata": {
        "id": "lVe38RqeepVs",
        "colab": {
          "base_uri": "https://localhost:8080/",
          "height": 282
        },
        "outputId": "915e5c44-fdf0-4f46-a652-3f3f3ab58a53"
      },
      "outputs": [
        {
          "output_type": "stream",
          "name": "stdout",
          "text": [
            "Summary:\n"
          ]
        },
        {
          "output_type": "display_data",
          "data": {
            "text/plain": [
              "\u001b[1mModel: \"sequential\"\u001b[0m\n"
            ],
            "text/html": [
              "<pre style=\"white-space:pre;overflow-x:auto;line-height:normal;font-family:Menlo,'DejaVu Sans Mono',consolas,'Courier New',monospace\"><span style=\"font-weight: bold\">Model: \"sequential\"</span>\n",
              "</pre>\n"
            ]
          },
          "metadata": {}
        },
        {
          "output_type": "display_data",
          "data": {
            "text/plain": [
              "┏━━━━━━━━━━━━━━━━━━━━━━━━━━━━━━━━━━━━━━┳━━━━━━━━━━━━━━━━━━━━━━━━━━━━━┳━━━━━━━━━━━━━━━━━┓\n",
              "┃\u001b[1m \u001b[0m\u001b[1mLayer (type)                        \u001b[0m\u001b[1m \u001b[0m┃\u001b[1m \u001b[0m\u001b[1mOutput Shape               \u001b[0m\u001b[1m \u001b[0m┃\u001b[1m \u001b[0m\u001b[1m        Param #\u001b[0m\u001b[1m \u001b[0m┃\n",
              "┡━━━━━━━━━━━━━━━━━━━━━━━━━━━━━━━━━━━━━━╇━━━━━━━━━━━━━━━━━━━━━━━━━━━━━╇━━━━━━━━━━━━━━━━━┩\n",
              "│ dense (\u001b[38;5;33mDense\u001b[0m)                        │ (\u001b[38;5;45mNone\u001b[0m, \u001b[38;5;34m16\u001b[0m)                  │          \u001b[38;5;34m12,560\u001b[0m │\n",
              "├──────────────────────────────────────┼─────────────────────────────┼─────────────────┤\n",
              "│ dense_1 (\u001b[38;5;33mDense\u001b[0m)                      │ (\u001b[38;5;45mNone\u001b[0m, \u001b[38;5;34m16\u001b[0m)                  │             \u001b[38;5;34m272\u001b[0m │\n",
              "├──────────────────────────────────────┼─────────────────────────────┼─────────────────┤\n",
              "│ dropout (\u001b[38;5;33mDropout\u001b[0m)                    │ (\u001b[38;5;45mNone\u001b[0m, \u001b[38;5;34m16\u001b[0m)                  │               \u001b[38;5;34m0\u001b[0m │\n",
              "├──────────────────────────────────────┼─────────────────────────────┼─────────────────┤\n",
              "│ dense_2 (\u001b[38;5;33mDense\u001b[0m)                      │ (\u001b[38;5;45mNone\u001b[0m, \u001b[38;5;34m10\u001b[0m)                  │             \u001b[38;5;34m170\u001b[0m │\n",
              "└──────────────────────────────────────┴─────────────────────────────┴─────────────────┘\n"
            ],
            "text/html": [
              "<pre style=\"white-space:pre;overflow-x:auto;line-height:normal;font-family:Menlo,'DejaVu Sans Mono',consolas,'Courier New',monospace\">┏━━━━━━━━━━━━━━━━━━━━━━━━━━━━━━━━━━━━━━┳━━━━━━━━━━━━━━━━━━━━━━━━━━━━━┳━━━━━━━━━━━━━━━━━┓\n",
              "┃<span style=\"font-weight: bold\"> Layer (type)                         </span>┃<span style=\"font-weight: bold\"> Output Shape                </span>┃<span style=\"font-weight: bold\">         Param # </span>┃\n",
              "┡━━━━━━━━━━━━━━━━━━━━━━━━━━━━━━━━━━━━━━╇━━━━━━━━━━━━━━━━━━━━━━━━━━━━━╇━━━━━━━━━━━━━━━━━┩\n",
              "│ dense (<span style=\"color: #0087ff; text-decoration-color: #0087ff\">Dense</span>)                        │ (<span style=\"color: #00d7ff; text-decoration-color: #00d7ff\">None</span>, <span style=\"color: #00af00; text-decoration-color: #00af00\">16</span>)                  │          <span style=\"color: #00af00; text-decoration-color: #00af00\">12,560</span> │\n",
              "├──────────────────────────────────────┼─────────────────────────────┼─────────────────┤\n",
              "│ dense_1 (<span style=\"color: #0087ff; text-decoration-color: #0087ff\">Dense</span>)                      │ (<span style=\"color: #00d7ff; text-decoration-color: #00d7ff\">None</span>, <span style=\"color: #00af00; text-decoration-color: #00af00\">16</span>)                  │             <span style=\"color: #00af00; text-decoration-color: #00af00\">272</span> │\n",
              "├──────────────────────────────────────┼─────────────────────────────┼─────────────────┤\n",
              "│ dropout (<span style=\"color: #0087ff; text-decoration-color: #0087ff\">Dropout</span>)                    │ (<span style=\"color: #00d7ff; text-decoration-color: #00d7ff\">None</span>, <span style=\"color: #00af00; text-decoration-color: #00af00\">16</span>)                  │               <span style=\"color: #00af00; text-decoration-color: #00af00\">0</span> │\n",
              "├──────────────────────────────────────┼─────────────────────────────┼─────────────────┤\n",
              "│ dense_2 (<span style=\"color: #0087ff; text-decoration-color: #0087ff\">Dense</span>)                      │ (<span style=\"color: #00d7ff; text-decoration-color: #00d7ff\">None</span>, <span style=\"color: #00af00; text-decoration-color: #00af00\">10</span>)                  │             <span style=\"color: #00af00; text-decoration-color: #00af00\">170</span> │\n",
              "└──────────────────────────────────────┴─────────────────────────────┴─────────────────┘\n",
              "</pre>\n"
            ]
          },
          "metadata": {}
        },
        {
          "output_type": "display_data",
          "data": {
            "text/plain": [
              "\u001b[1m Total params: \u001b[0m\u001b[38;5;34m13,002\u001b[0m (50.79 KB)\n"
            ],
            "text/html": [
              "<pre style=\"white-space:pre;overflow-x:auto;line-height:normal;font-family:Menlo,'DejaVu Sans Mono',consolas,'Courier New',monospace\"><span style=\"font-weight: bold\"> Total params: </span><span style=\"color: #00af00; text-decoration-color: #00af00\">13,002</span> (50.79 KB)\n",
              "</pre>\n"
            ]
          },
          "metadata": {}
        },
        {
          "output_type": "display_data",
          "data": {
            "text/plain": [
              "\u001b[1m Trainable params: \u001b[0m\u001b[38;5;34m13,002\u001b[0m (50.79 KB)\n"
            ],
            "text/html": [
              "<pre style=\"white-space:pre;overflow-x:auto;line-height:normal;font-family:Menlo,'DejaVu Sans Mono',consolas,'Courier New',monospace\"><span style=\"font-weight: bold\"> Trainable params: </span><span style=\"color: #00af00; text-decoration-color: #00af00\">13,002</span> (50.79 KB)\n",
              "</pre>\n"
            ]
          },
          "metadata": {}
        },
        {
          "output_type": "display_data",
          "data": {
            "text/plain": [
              "\u001b[1m Non-trainable params: \u001b[0m\u001b[38;5;34m0\u001b[0m (0.00 B)\n"
            ],
            "text/html": [
              "<pre style=\"white-space:pre;overflow-x:auto;line-height:normal;font-family:Menlo,'DejaVu Sans Mono',consolas,'Courier New',monospace\"><span style=\"font-weight: bold\"> Non-trainable params: </span><span style=\"color: #00af00; text-decoration-color: #00af00\">0</span> (0.00 B)\n",
              "</pre>\n"
            ]
          },
          "metadata": {}
        }
      ],
      "source": [
        "input_shape = x_train[0].shape\n",
        "\n",
        "# Build the model\n",
        "model = keras.Sequential(\n",
        "    [\n",
        "        keras.Input(shape=input_shape),\n",
        "        layers.Dense(16, activation='relu'),\n",
        "        layers.Dense(16, activation='relu'),\n",
        "        layers.Dropout(0.1),\n",
        "        layers.Dense(10, activation='softmax')\n",
        "    ]\n",
        ")\n",
        "\n",
        "# Now we must compile it\n",
        "optimizer = keras.optimizers.Adam(learning_rate=0.001)\n",
        "model.compile(loss='sparse_categorical_crossentropy', optimizer=optimizer, metrics=['accuracy'])\n",
        "\n",
        "print('Summary:')\n",
        "model.summary()"
      ]
    },
    {
      "cell_type": "code",
      "source": [
        "(784+1)*16 + (16+1)*16 + (16+1)*10"
      ],
      "metadata": {
        "colab": {
          "base_uri": "https://localhost:8080/"
        },
        "id": "3p00uLsyopGb",
        "outputId": "b72e0a86-e05b-4345-ee27-4fef470a3bef"
      },
      "execution_count": null,
      "outputs": [
        {
          "output_type": "execute_result",
          "data": {
            "text/plain": [
              "13002"
            ]
          },
          "metadata": {},
          "execution_count": 11
        }
      ]
    },
    {
      "cell_type": "markdown",
      "metadata": {
        "id": "F6wibKkwepVt"
      },
      "source": [
        "### Training the model"
      ]
    },
    {
      "cell_type": "code",
      "execution_count": null,
      "metadata": {
        "scrolled": true,
        "id": "poLCkLwiepVt",
        "colab": {
          "base_uri": "https://localhost:8080/"
        },
        "outputId": "e414451b-5d23-4497-ce85-16a9d8ac8430"
      },
      "outputs": [
        {
          "output_type": "stream",
          "name": "stdout",
          "text": [
            "\n",
            "Training...\n",
            "Epoch 1/15\n",
            "\u001b[1m1478/1500\u001b[0m \u001b[32m━━━━━━━━━━━━━━━━━━━\u001b[0m\u001b[37m━\u001b[0m \u001b[1m0s\u001b[0m 3ms/step - accuracy: 0.6761 - loss: 0.9891"
          ]
        },
        {
          "output_type": "stream",
          "name": "stderr",
          "text": [
            "WARNING:absl:You are saving your model as an HDF5 file via `model.save()` or `keras.saving.save_model(model)`. This file format is considered legacy. We recommend using instead the native Keras format, e.g. `model.save('my_model.keras')` or `keras.saving.save_model(model, 'my_model.keras')`. \n"
          ]
        },
        {
          "output_type": "stream",
          "name": "stdout",
          "text": [
            "\b\b\b\b\b\b\b\b\b\b\b\b\b\b\b\b\b\b\b\b\b\b\b\b\b\b\b\b\b\b\b\b\b\b\b\b\b\b\b\b\b\b\b\b\b\b\b\b\b\b\b\b\b\b\b\b\b\b\b\b\b\b\b\b\b\b\b\b\b\b\b\b\b\b\b\b\r\u001b[1m1500/1500\u001b[0m \u001b[32m━━━━━━━━━━━━━━━━━━━━\u001b[0m\u001b[37m\u001b[0m \u001b[1m8s\u001b[0m 4ms/step - accuracy: 0.6780 - loss: 0.9836 - val_accuracy: 0.9198 - val_loss: 0.2839\n",
            "Epoch 2/15\n",
            "\u001b[1m1485/1500\u001b[0m \u001b[32m━━━━━━━━━━━━━━━━━━━\u001b[0m\u001b[37m━\u001b[0m \u001b[1m0s\u001b[0m 2ms/step - accuracy: 0.8937 - loss: 0.3490"
          ]
        },
        {
          "output_type": "stream",
          "name": "stderr",
          "text": [
            "WARNING:absl:You are saving your model as an HDF5 file via `model.save()` or `keras.saving.save_model(model)`. This file format is considered legacy. We recommend using instead the native Keras format, e.g. `model.save('my_model.keras')` or `keras.saving.save_model(model, 'my_model.keras')`. \n"
          ]
        },
        {
          "output_type": "stream",
          "name": "stdout",
          "text": [
            "\b\b\b\b\b\b\b\b\b\b\b\b\b\b\b\b\b\b\b\b\b\b\b\b\b\b\b\b\b\b\b\b\b\b\b\b\b\b\b\b\b\b\b\b\b\b\b\b\b\b\b\b\b\b\b\b\b\b\b\b\b\b\b\b\b\b\b\b\b\b\b\b\b\b\b\b\r\u001b[1m1500/1500\u001b[0m \u001b[32m━━━━━━━━━━━━━━━━━━━━\u001b[0m\u001b[37m\u001b[0m \u001b[1m4s\u001b[0m 3ms/step - accuracy: 0.8937 - loss: 0.3488 - val_accuracy: 0.9392 - val_loss: 0.2170\n",
            "Epoch 3/15\n",
            "\u001b[1m1487/1500\u001b[0m \u001b[32m━━━━━━━━━━━━━━━━━━━\u001b[0m\u001b[37m━\u001b[0m \u001b[1m0s\u001b[0m 3ms/step - accuracy: 0.9127 - loss: 0.2887"
          ]
        },
        {
          "output_type": "stream",
          "name": "stderr",
          "text": [
            "WARNING:absl:You are saving your model as an HDF5 file via `model.save()` or `keras.saving.save_model(model)`. This file format is considered legacy. We recommend using instead the native Keras format, e.g. `model.save('my_model.keras')` or `keras.saving.save_model(model, 'my_model.keras')`. \n"
          ]
        },
        {
          "output_type": "stream",
          "name": "stdout",
          "text": [
            "\b\b\b\b\b\b\b\b\b\b\b\b\b\b\b\b\b\b\b\b\b\b\b\b\b\b\b\b\b\b\b\b\b\b\b\b\b\b\b\b\b\b\b\b\b\b\b\b\b\b\b\b\b\b\b\b\b\b\b\b\b\b\b\b\b\b\b\b\b\b\b\b\b\b\b\b\r\u001b[1m1500/1500\u001b[0m \u001b[32m━━━━━━━━━━━━━━━━━━━━\u001b[0m\u001b[37m\u001b[0m \u001b[1m6s\u001b[0m 3ms/step - accuracy: 0.9127 - loss: 0.2887 - val_accuracy: 0.9433 - val_loss: 0.1996\n",
            "Epoch 4/15\n",
            "\u001b[1m1498/1500\u001b[0m \u001b[32m━━━━━━━━━━━━━━━━━━━\u001b[0m\u001b[37m━\u001b[0m \u001b[1m0s\u001b[0m 2ms/step - accuracy: 0.9233 - loss: 0.2601"
          ]
        },
        {
          "output_type": "stream",
          "name": "stderr",
          "text": [
            "WARNING:absl:You are saving your model as an HDF5 file via `model.save()` or `keras.saving.save_model(model)`. This file format is considered legacy. We recommend using instead the native Keras format, e.g. `model.save('my_model.keras')` or `keras.saving.save_model(model, 'my_model.keras')`. \n"
          ]
        },
        {
          "output_type": "stream",
          "name": "stdout",
          "text": [
            "\b\b\b\b\b\b\b\b\b\b\b\b\b\b\b\b\b\b\b\b\b\b\b\b\b\b\b\b\b\b\b\b\b\b\b\b\b\b\b\b\b\b\b\b\b\b\b\b\b\b\b\b\b\b\b\b\b\b\b\b\b\b\b\b\b\b\b\b\b\b\b\b\b\b\b\b\r\u001b[1m1500/1500\u001b[0m \u001b[32m━━━━━━━━━━━━━━━━━━━━\u001b[0m\u001b[37m\u001b[0m \u001b[1m5s\u001b[0m 3ms/step - accuracy: 0.9233 - loss: 0.2601 - val_accuracy: 0.9458 - val_loss: 0.1939\n",
            "Epoch 5/15\n",
            "\u001b[1m1489/1500\u001b[0m \u001b[32m━━━━━━━━━━━━━━━━━━━\u001b[0m\u001b[37m━\u001b[0m \u001b[1m0s\u001b[0m 2ms/step - accuracy: 0.9279 - loss: 0.2405"
          ]
        },
        {
          "output_type": "stream",
          "name": "stderr",
          "text": [
            "WARNING:absl:You are saving your model as an HDF5 file via `model.save()` or `keras.saving.save_model(model)`. This file format is considered legacy. We recommend using instead the native Keras format, e.g. `model.save('my_model.keras')` or `keras.saving.save_model(model, 'my_model.keras')`. \n"
          ]
        },
        {
          "output_type": "stream",
          "name": "stdout",
          "text": [
            "\b\b\b\b\b\b\b\b\b\b\b\b\b\b\b\b\b\b\b\b\b\b\b\b\b\b\b\b\b\b\b\b\b\b\b\b\b\b\b\b\b\b\b\b\b\b\b\b\b\b\b\b\b\b\b\b\b\b\b\b\b\b\b\b\b\b\b\b\b\b\b\b\b\b\b\b\r\u001b[1m1500/1500\u001b[0m \u001b[32m━━━━━━━━━━━━━━━━━━━━\u001b[0m\u001b[37m\u001b[0m \u001b[1m5s\u001b[0m 3ms/step - accuracy: 0.9279 - loss: 0.2405 - val_accuracy: 0.9479 - val_loss: 0.1870\n",
            "Epoch 6/15\n",
            "\u001b[1m1500/1500\u001b[0m \u001b[32m━━━━━━━━━━━━━━━━━━━━\u001b[0m\u001b[37m\u001b[0m \u001b[1m5s\u001b[0m 3ms/step - accuracy: 0.9353 - loss: 0.2193 - val_accuracy: 0.9454 - val_loss: 0.1935\n",
            "Epoch 7/15\n",
            "\u001b[1m1487/1500\u001b[0m \u001b[32m━━━━━━━━━━━━━━━━━━━\u001b[0m\u001b[37m━\u001b[0m \u001b[1m0s\u001b[0m 2ms/step - accuracy: 0.9393 - loss: 0.2057"
          ]
        },
        {
          "output_type": "stream",
          "name": "stderr",
          "text": [
            "WARNING:absl:You are saving your model as an HDF5 file via `model.save()` or `keras.saving.save_model(model)`. This file format is considered legacy. We recommend using instead the native Keras format, e.g. `model.save('my_model.keras')` or `keras.saving.save_model(model, 'my_model.keras')`. \n"
          ]
        },
        {
          "output_type": "stream",
          "name": "stdout",
          "text": [
            "\b\b\b\b\b\b\b\b\b\b\b\b\b\b\b\b\b\b\b\b\b\b\b\b\b\b\b\b\b\b\b\b\b\b\b\b\b\b\b\b\b\b\b\b\b\b\b\b\b\b\b\b\b\b\b\b\b\b\b\b\b\b\b\b\b\b\b\b\b\b\b\b\b\b\b\b\r\u001b[1m1500/1500\u001b[0m \u001b[32m━━━━━━━━━━━━━━━━━━━━\u001b[0m\u001b[37m\u001b[0m \u001b[1m4s\u001b[0m 3ms/step - accuracy: 0.9393 - loss: 0.2057 - val_accuracy: 0.9488 - val_loss: 0.1811\n",
            "Epoch 8/15\n",
            "\u001b[1m1495/1500\u001b[0m \u001b[32m━━━━━━━━━━━━━━━━━━━\u001b[0m\u001b[37m━\u001b[0m \u001b[1m0s\u001b[0m 3ms/step - accuracy: 0.9391 - loss: 0.1996"
          ]
        },
        {
          "output_type": "stream",
          "name": "stderr",
          "text": [
            "WARNING:absl:You are saving your model as an HDF5 file via `model.save()` or `keras.saving.save_model(model)`. This file format is considered legacy. We recommend using instead the native Keras format, e.g. `model.save('my_model.keras')` or `keras.saving.save_model(model, 'my_model.keras')`. \n"
          ]
        },
        {
          "output_type": "stream",
          "name": "stdout",
          "text": [
            "\b\b\b\b\b\b\b\b\b\b\b\b\b\b\b\b\b\b\b\b\b\b\b\b\b\b\b\b\b\b\b\b\b\b\b\b\b\b\b\b\b\b\b\b\b\b\b\b\b\b\b\b\b\b\b\b\b\b\b\b\b\b\b\b\b\b\b\b\b\b\b\b\b\b\b\b\r\u001b[1m1500/1500\u001b[0m \u001b[32m━━━━━━━━━━━━━━━━━━━━\u001b[0m\u001b[37m\u001b[0m \u001b[1m5s\u001b[0m 4ms/step - accuracy: 0.9391 - loss: 0.1996 - val_accuracy: 0.9542 - val_loss: 0.1647\n",
            "Epoch 9/15\n",
            "\u001b[1m1500/1500\u001b[0m \u001b[32m━━━━━━━━━━━━━━━━━━━━\u001b[0m\u001b[37m\u001b[0m \u001b[1m9s\u001b[0m 3ms/step - accuracy: 0.9430 - loss: 0.1923 - val_accuracy: 0.9537 - val_loss: 0.1655\n",
            "Epoch 10/15\n",
            "\u001b[1m1500/1500\u001b[0m \u001b[32m━━━━━━━━━━━━━━━━━━━━\u001b[0m\u001b[37m\u001b[0m \u001b[1m5s\u001b[0m 3ms/step - accuracy: 0.9450 - loss: 0.1852 - val_accuracy: 0.9528 - val_loss: 0.1709\n"
          ]
        }
      ],
      "source": [
        "print(\"\\nTraining...\")\n",
        "history = model.fit(\n",
        "    x=x_train,\n",
        "    y=y_train,\n",
        "    validation_split=0.2,\n",
        "    epochs=15,\n",
        "    batch_size=32,\n",
        "    callbacks=[\n",
        "      keras.callbacks.EarlyStopping(patience=2),\n",
        "      keras.callbacks.ModelCheckpoint(filepath=\"best_model.h5\",\n",
        "                                      save_best_only=True)\n",
        "\n",
        "    ]\n",
        ")"
      ]
    },
    {
      "cell_type": "markdown",
      "metadata": {
        "id": "YtvTaDdhepVu"
      },
      "source": [
        "### Let's see some plots"
      ]
    },
    {
      "cell_type": "code",
      "execution_count": null,
      "metadata": {
        "id": "ngqELNt1epVu",
        "colab": {
          "base_uri": "https://localhost:8080/",
          "height": 927
        },
        "outputId": "a994c22c-5429-4af4-86b8-d9dae7771071"
      },
      "outputs": [
        {
          "output_type": "display_data",
          "data": {
            "text/plain": [
              "<Figure size 640x480 with 1 Axes>"
            ],
            "image/png": "[encoded data removed]"
          },
          "metadata": {}
        },
        {
          "output_type": "display_data",
          "data": {
            "text/plain": [
              "<Figure size 640x480 with 1 Axes>"
            ],
            "image/png": "[encoded data removed]"
          },
          "metadata": {}
        }
      ],
      "source": [
        "# Plot training & validation accuracy values\n",
        "plt.plot(history.history['accuracy'])\n",
        "plt.plot(history.history['val_accuracy'])\n",
        "plt.title('Model accuracy')\n",
        "plt.ylabel('Accuracy')\n",
        "plt.xlabel('Epoch')\n",
        "plt.legend(['Train', 'Test'], loc='upper left')\n",
        "plt.show()\n",
        "\n",
        "# Plot training & validation loss values\n",
        "plt.plot(history.history['loss'])\n",
        "plt.plot(history.history['val_loss'])\n",
        "plt.title('Model loss')\n",
        "plt.ylabel('Loss')\n",
        "plt.xlabel('Epoch')\n",
        "plt.legend(['Train', 'Test'], loc='upper left')\n",
        "plt.show()"
      ]
    },
    {
      "cell_type": "markdown",
      "metadata": {
        "id": "Tb9Z1WOcepVu"
      },
      "source": [
        "### Using the model\n"
      ]
    },
    {
      "cell_type": "code",
      "execution_count": null,
      "metadata": {
        "id": "H2R0x8LLepVv",
        "colab": {
          "base_uri": "https://localhost:8080/"
        },
        "outputId": "5271b89c-973b-4c4c-f6ad-b3ab486c0ad0"
      },
      "outputs": [
        {
          "output_type": "execute_result",
          "data": {
            "text/plain": [
              "(784,)"
            ]
          },
          "metadata": {},
          "execution_count": 14
        }
      ],
      "source": [
        "x_test[0].shape"
      ]
    },
    {
      "cell_type": "code",
      "execution_count": null,
      "metadata": {
        "id": "yZN7qaq9epVv",
        "colab": {
          "base_uri": "https://localhost:8080/"
        },
        "outputId": "d465aa7b-367d-488d-bfc7-aff103db47ad"
      },
      "outputs": [
        {
          "output_type": "execute_result",
          "data": {
            "text/plain": [
              "(1, 784)"
            ]
          },
          "metadata": {},
          "execution_count": 15
        }
      ],
      "source": [
        "x_test[0].reshape(1, -1).shape"
      ]
    },
    {
      "cell_type": "code",
      "execution_count": null,
      "metadata": {
        "id": "GowYnBxcepVv",
        "colab": {
          "base_uri": "https://localhost:8080/"
        },
        "outputId": "28f1a27a-60e3-4c2e-858f-0f68a40d25b5"
      },
      "outputs": [
        {
          "output_type": "stream",
          "name": "stdout",
          "text": [
            "\u001b[1m1/1\u001b[0m \u001b[32m━━━━━━━━━━━━━━━━━━━━\u001b[0m\u001b[37m\u001b[0m \u001b[1m0s\u001b[0m 276ms/step\n"
          ]
        },
        {
          "output_type": "execute_result",
          "data": {
            "text/plain": [
              "array([[3.8062120e-05, 2.5495631e-06, 5.9006299e-04, 1.2695950e-03,\n",
              "        4.1227936e-06, 8.4286330e-05, 3.6141203e-06, 9.9770856e-01,\n",
              "        4.1140956e-05, 2.5801727e-04]], dtype=float32)"
            ]
          },
          "metadata": {},
          "execution_count": 16
        }
      ],
      "source": [
        "prediction = model.predict(x_test[0].reshape(1, -1))\n",
        "prediction"
      ]
    },
    {
      "cell_type": "code",
      "execution_count": null,
      "metadata": {
        "id": "c1rcQIgIepVv",
        "colab": {
          "base_uri": "https://localhost:8080/"
        },
        "outputId": "be1c5e56-8736-4f0f-d82b-2d8b991a193c"
      },
      "outputs": [
        {
          "output_type": "execute_result",
          "data": {
            "text/plain": [
              "7"
            ]
          },
          "metadata": {},
          "execution_count": 17
        }
      ],
      "source": [
        "pred_class = prediction.argmax(axis=1)[0]\n",
        "pred_class"
      ]
    },
    {
      "cell_type": "code",
      "execution_count": null,
      "metadata": {
        "id": "EX-g--vJepVw",
        "colab": {
          "base_uri": "https://localhost:8080/"
        },
        "outputId": "9609034e-7402-4f5b-c937-c62b78e3a597"
      },
      "outputs": [
        {
          "output_type": "execute_result",
          "data": {
            "text/plain": [
              "0.99770856"
            ]
          },
          "metadata": {},
          "execution_count": 18
        }
      ],
      "source": [
        "prediction[0][pred_class]"
      ]
    },
    {
      "cell_type": "code",
      "execution_count": null,
      "metadata": {
        "id": "Ssa_mBsbepVw",
        "colab": {
          "base_uri": "https://localhost:8080/",
          "height": 452
        },
        "outputId": "e02a588b-54c4-42e8-96f4-fecd374965ad"
      },
      "outputs": [
        {
          "output_type": "display_data",
          "data": {
            "text/plain": [
              "<Figure size 640x480 with 1 Axes>"
            ],
            "image/png": "[encoded data removed]"
          },
          "metadata": {}
        }
      ],
      "source": [
        "plt.imshow(x_test[0].reshape(28, 28))\n",
        "plt.title(y_test[0])\n",
        "plt.show()"
      ]
    },
    {
      "cell_type": "markdown",
      "metadata": {
        "id": "4nc1Sq4nepVw"
      },
      "source": [
        "Evaluate the model on all the testing set, never used yet"
      ]
    },
    {
      "cell_type": "code",
      "execution_count": null,
      "metadata": {
        "id": "-LMu5y0gepVw",
        "colab": {
          "base_uri": "https://localhost:8080/"
        },
        "outputId": "7f554b5e-abf0-4ffe-9b88-879e72a70f1a"
      },
      "outputs": [
        {
          "output_type": "stream",
          "name": "stdout",
          "text": [
            "\u001b[1m313/313\u001b[0m \u001b[32m━━━━━━━━━━━━━━━━━━━━\u001b[0m\u001b[37m\u001b[0m \u001b[1m1s\u001b[0m 2ms/step\n"
          ]
        },
        {
          "output_type": "execute_result",
          "data": {
            "text/plain": [
              "0.9511"
            ]
          },
          "metadata": {},
          "execution_count": 20
        }
      ],
      "source": [
        "# Predict over test\n",
        "y_test_pred = model.predict(x_test)\n",
        "\n",
        "# Get predicted class from probabilities\n",
        "y_test_pred_cat = y_test_pred.argmax(axis=1)\n",
        "\n",
        "# Evaluamos el accuracy score\n",
        "accuracy_score(y_true=y_test, y_pred=y_test_pred_cat)"
      ]
    },
    {
      "cell_type": "code",
      "source": [
        "from sklearn.metrics import classification_report\n",
        "\n",
        "print(classification_report(y_true=y_test, y_pred=y_test_pred_cat))"
      ],
      "metadata": {
        "id": "axPyfOHy8FNg",
        "colab": {
          "base_uri": "https://localhost:8080/"
        },
        "outputId": "da1365f4-8d3d-4548-f9e5-f04b2c3ea8a6"
      },
      "execution_count": null,
      "outputs": [
        {
          "output_type": "stream",
          "name": "stdout",
          "text": [
            "              precision    recall  f1-score   support\n",
            "\n",
            "           0       0.95      0.98      0.97       980\n",
            "           1       0.98      0.98      0.98      1135\n",
            "           2       0.93      0.94      0.93      1032\n",
            "           3       0.96      0.93      0.95      1010\n",
            "           4       0.96      0.94      0.95       982\n",
            "           5       0.96      0.94      0.95       892\n",
            "           6       0.95      0.96      0.96       958\n",
            "           7       0.94      0.96      0.95      1028\n",
            "           8       0.94      0.93      0.94       974\n",
            "           9       0.95      0.94      0.95      1009\n",
            "\n",
            "    accuracy                           0.95     10000\n",
            "   macro avg       0.95      0.95      0.95     10000\n",
            "weighted avg       0.95      0.95      0.95     10000\n",
            "\n"
          ]
        }
      ]
    },
    {
      "cell_type": "markdown",
      "metadata": {
        "id": "t29_t0a4epVx"
      },
      "source": [
        "---\n",
        "\n",
        "# MLP for regression\n",
        "\n",
        "Let's now think this problem as a regression. We will predict one number between 0 and 9 instead a of class.\n"
      ]
    },
    {
      "cell_type": "code",
      "execution_count": null,
      "metadata": {
        "id": "IpPj9hrCepVx",
        "colab": {
          "base_uri": "https://localhost:8080/",
          "height": 249
        },
        "outputId": "348260a3-890b-4a45-a77b-133fdd1b21be"
      },
      "outputs": [
        {
          "output_type": "stream",
          "name": "stdout",
          "text": [
            "Summary:\n"
          ]
        },
        {
          "output_type": "display_data",
          "data": {
            "text/plain": [
              "\u001b[1mModel: \"sequential_1\"\u001b[0m\n"
            ],
            "text/html": [
              "<pre style=\"white-space:pre;overflow-x:auto;line-height:normal;font-family:Menlo,'DejaVu Sans Mono',consolas,'Courier New',monospace\"><span style=\"font-weight: bold\">Model: \"sequential_1\"</span>\n",
              "</pre>\n"
            ]
          },
          "metadata": {}
        },
        {
          "output_type": "display_data",
          "data": {
            "text/plain": [
              "┏━━━━━━━━━━━━━━━━━━━━━━━━━━━━━━━━━━━━━━┳━━━━━━━━━━━━━━━━━━━━━━━━━━━━━┳━━━━━━━━━━━━━━━━━┓\n",
              "┃\u001b[1m \u001b[0m\u001b[1mLayer (type)                        \u001b[0m\u001b[1m \u001b[0m┃\u001b[1m \u001b[0m\u001b[1mOutput Shape               \u001b[0m\u001b[1m \u001b[0m┃\u001b[1m \u001b[0m\u001b[1m        Param #\u001b[0m\u001b[1m \u001b[0m┃\n",
              "┡━━━━━━━━━━━━━━━━━━━━━━━━━━━━━━━━━━━━━━╇━━━━━━━━━━━━━━━━━━━━━━━━━━━━━╇━━━━━━━━━━━━━━━━━┩\n",
              "│ dense_3 (\u001b[38;5;33mDense\u001b[0m)                      │ (\u001b[38;5;45mNone\u001b[0m, \u001b[38;5;34m16\u001b[0m)                  │          \u001b[38;5;34m12,560\u001b[0m │\n",
              "├──────────────────────────────────────┼─────────────────────────────┼─────────────────┤\n",
              "│ dense_4 (\u001b[38;5;33mDense\u001b[0m)                      │ (\u001b[38;5;45mNone\u001b[0m, \u001b[38;5;34m16\u001b[0m)                  │             \u001b[38;5;34m272\u001b[0m │\n",
              "├──────────────────────────────────────┼─────────────────────────────┼─────────────────┤\n",
              "│ dense_5 (\u001b[38;5;33mDense\u001b[0m)                      │ (\u001b[38;5;45mNone\u001b[0m, \u001b[38;5;34m1\u001b[0m)                   │              \u001b[38;5;34m17\u001b[0m │\n",
              "└──────────────────────────────────────┴─────────────────────────────┴─────────────────┘\n"
            ],
            "text/html": [
              "<pre style=\"white-space:pre;overflow-x:auto;line-height:normal;font-family:Menlo,'DejaVu Sans Mono',consolas,'Courier New',monospace\">┏━━━━━━━━━━━━━━━━━━━━━━━━━━━━━━━━━━━━━━┳━━━━━━━━━━━━━━━━━━━━━━━━━━━━━┳━━━━━━━━━━━━━━━━━┓\n",
              "┃<span style=\"font-weight: bold\"> Layer (type)                         </span>┃<span style=\"font-weight: bold\"> Output Shape                </span>┃<span style=\"font-weight: bold\">         Param # </span>┃\n",
              "┡━━━━━━━━━━━━━━━━━━━━━━━━━━━━━━━━━━━━━━╇━━━━━━━━━━━━━━━━━━━━━━━━━━━━━╇━━━━━━━━━━━━━━━━━┩\n",
              "│ dense_3 (<span style=\"color: #0087ff; text-decoration-color: #0087ff\">Dense</span>)                      │ (<span style=\"color: #00d7ff; text-decoration-color: #00d7ff\">None</span>, <span style=\"color: #00af00; text-decoration-color: #00af00\">16</span>)                  │          <span style=\"color: #00af00; text-decoration-color: #00af00\">12,560</span> │\n",
              "├──────────────────────────────────────┼─────────────────────────────┼─────────────────┤\n",
              "│ dense_4 (<span style=\"color: #0087ff; text-decoration-color: #0087ff\">Dense</span>)                      │ (<span style=\"color: #00d7ff; text-decoration-color: #00d7ff\">None</span>, <span style=\"color: #00af00; text-decoration-color: #00af00\">16</span>)                  │             <span style=\"color: #00af00; text-decoration-color: #00af00\">272</span> │\n",
              "├──────────────────────────────────────┼─────────────────────────────┼─────────────────┤\n",
              "│ dense_5 (<span style=\"color: #0087ff; text-decoration-color: #0087ff\">Dense</span>)                      │ (<span style=\"color: #00d7ff; text-decoration-color: #00d7ff\">None</span>, <span style=\"color: #00af00; text-decoration-color: #00af00\">1</span>)                   │              <span style=\"color: #00af00; text-decoration-color: #00af00\">17</span> │\n",
              "└──────────────────────────────────────┴─────────────────────────────┴─────────────────┘\n",
              "</pre>\n"
            ]
          },
          "metadata": {}
        },
        {
          "output_type": "display_data",
          "data": {
            "text/plain": [
              "\u001b[1m Total params: \u001b[0m\u001b[38;5;34m12,849\u001b[0m (50.19 KB)\n"
            ],
            "text/html": [
              "<pre style=\"white-space:pre;overflow-x:auto;line-height:normal;font-family:Menlo,'DejaVu Sans Mono',consolas,'Courier New',monospace\"><span style=\"font-weight: bold\"> Total params: </span><span style=\"color: #00af00; text-decoration-color: #00af00\">12,849</span> (50.19 KB)\n",
              "</pre>\n"
            ]
          },
          "metadata": {}
        },
        {
          "output_type": "display_data",
          "data": {
            "text/plain": [
              "\u001b[1m Trainable params: \u001b[0m\u001b[38;5;34m12,849\u001b[0m (50.19 KB)\n"
            ],
            "text/html": [
              "<pre style=\"white-space:pre;overflow-x:auto;line-height:normal;font-family:Menlo,'DejaVu Sans Mono',consolas,'Courier New',monospace\"><span style=\"font-weight: bold\"> Trainable params: </span><span style=\"color: #00af00; text-decoration-color: #00af00\">12,849</span> (50.19 KB)\n",
              "</pre>\n"
            ]
          },
          "metadata": {}
        },
        {
          "output_type": "display_data",
          "data": {
            "text/plain": [
              "\u001b[1m Non-trainable params: \u001b[0m\u001b[38;5;34m0\u001b[0m (0.00 B)\n"
            ],
            "text/html": [
              "<pre style=\"white-space:pre;overflow-x:auto;line-height:normal;font-family:Menlo,'DejaVu Sans Mono',consolas,'Courier New',monospace\"><span style=\"font-weight: bold\"> Non-trainable params: </span><span style=\"color: #00af00; text-decoration-color: #00af00\">0</span> (0.00 B)\n",
              "</pre>\n"
            ]
          },
          "metadata": {}
        }
      ],
      "source": [
        "# Input shape will be the same\n",
        "input_shape = x_train[0].shape\n",
        "\n",
        "# Output shape now is different!\n",
        "# Note: Activation function in the output layer\n",
        "# can't be softmax in this case\n",
        "num_classes = 1\n",
        "\n",
        "# Define the model\n",
        "model = keras.Sequential(\n",
        "    [\n",
        "        keras.Input(shape=input_shape),\n",
        "        layers.Dense(16, activation='relu'),\n",
        "        layers.Dense(16, activation='relu'),\n",
        "        layers.Dense(num_classes, activation='linear')\n",
        "    ]\n",
        ")\n",
        "\n",
        "optimizer = keras.optimizers.Adam(learning_rate=0.001)\n",
        "model.compile(loss='mean_squared_error', optimizer=optimizer, metrics=['mae'])\n",
        "\n",
        "print('Summary:')\n",
        "model.summary()\n"
      ]
    },
    {
      "cell_type": "code",
      "execution_count": null,
      "metadata": {
        "scrolled": true,
        "id": "GDsLOB7cepVx",
        "colab": {
          "base_uri": "https://localhost:8080/"
        },
        "outputId": "7f0d9cd1-87f2-4af5-8526-65566bd6abb6"
      },
      "outputs": [
        {
          "output_type": "stream",
          "name": "stdout",
          "text": [
            "\n",
            "Training...\n",
            "Epoch 1/15\n",
            "\u001b[1m1500/1500\u001b[0m \u001b[32m━━━━━━━━━━━━━━━━━━━━\u001b[0m\u001b[37m\u001b[0m \u001b[1m6s\u001b[0m 3ms/step - loss: 5.3212 - mae: 1.7070 - val_loss: 1.6706 - val_mae: 0.9462\n",
            "Epoch 2/15\n",
            "\u001b[1m1500/1500\u001b[0m \u001b[32m━━━━━━━━━━━━━━━━━━━━\u001b[0m\u001b[37m\u001b[0m \u001b[1m5s\u001b[0m 3ms/step - loss: 1.5818 - mae: 0.8933 - val_loss: 1.2273 - val_mae: 0.7630\n",
            "Epoch 3/15\n",
            "\u001b[1m1500/1500\u001b[0m \u001b[32m━━━━━━━━━━━━━━━━━━━━\u001b[0m\u001b[37m\u001b[0m \u001b[1m5s\u001b[0m 3ms/step - loss: 1.1737 - mae: 0.7500 - val_loss: 1.1274 - val_mae: 0.7159\n",
            "Epoch 4/15\n",
            "\u001b[1m1500/1500\u001b[0m \u001b[32m━━━━━━━━━━━━━━━━━━━━\u001b[0m\u001b[37m\u001b[0m \u001b[1m6s\u001b[0m 4ms/step - loss: 1.0623 - mae: 0.6979 - val_loss: 0.9970 - val_mae: 0.6593\n",
            "Epoch 5/15\n",
            "\u001b[1m1500/1500\u001b[0m \u001b[32m━━━━━━━━━━━━━━━━━━━━\u001b[0m\u001b[37m\u001b[0m \u001b[1m9s\u001b[0m 3ms/step - loss: 0.9453 - mae: 0.6502 - val_loss: 0.9449 - val_mae: 0.6390\n",
            "Epoch 6/15\n",
            "\u001b[1m1500/1500\u001b[0m \u001b[32m━━━━━━━━━━━━━━━━━━━━\u001b[0m\u001b[37m\u001b[0m \u001b[1m4s\u001b[0m 3ms/step - loss: 0.9155 - mae: 0.6362 - val_loss: 0.8946 - val_mae: 0.6082\n",
            "Epoch 7/15\n",
            "\u001b[1m1500/1500\u001b[0m \u001b[32m━━━━━━━━━━━━━━━━━━━━\u001b[0m\u001b[37m\u001b[0m \u001b[1m6s\u001b[0m 3ms/step - loss: 0.8693 - mae: 0.6124 - val_loss: 0.8856 - val_mae: 0.5971\n",
            "Epoch 8/15\n",
            "\u001b[1m1500/1500\u001b[0m \u001b[32m━━━━━━━━━━━━━━━━━━━━\u001b[0m\u001b[37m\u001b[0m \u001b[1m5s\u001b[0m 3ms/step - loss: 0.8019 - mae: 0.5860 - val_loss: 0.8706 - val_mae: 0.5918\n",
            "Epoch 9/15\n",
            "\u001b[1m1500/1500\u001b[0m \u001b[32m━━━━━━━━━━━━━━━━━━━━\u001b[0m\u001b[37m\u001b[0m \u001b[1m5s\u001b[0m 3ms/step - loss: 0.7620 - mae: 0.5695 - val_loss: 0.8959 - val_mae: 0.6202\n",
            "Epoch 10/15\n",
            "\u001b[1m1500/1500\u001b[0m \u001b[32m━━━━━━━━━━━━━━━━━━━━\u001b[0m\u001b[37m\u001b[0m \u001b[1m6s\u001b[0m 3ms/step - loss: 0.7479 - mae: 0.5586 - val_loss: 0.8388 - val_mae: 0.5812\n",
            "Epoch 11/15\n",
            "\u001b[1m1500/1500\u001b[0m \u001b[32m━━━━━━━━━━━━━━━━━━━━\u001b[0m\u001b[37m\u001b[0m \u001b[1m4s\u001b[0m 3ms/step - loss: 0.7097 - mae: 0.5407 - val_loss: 0.8040 - val_mae: 0.5680\n",
            "Epoch 12/15\n",
            "\u001b[1m1500/1500\u001b[0m \u001b[32m━━━━━━━━━━━━━━━━━━━━\u001b[0m\u001b[37m\u001b[0m \u001b[1m5s\u001b[0m 3ms/step - loss: 0.6888 - mae: 0.5291 - val_loss: 0.7848 - val_mae: 0.5442\n",
            "Epoch 13/15\n",
            "\u001b[1m1500/1500\u001b[0m \u001b[32m━━━━━━━━━━━━━━━━━━━━\u001b[0m\u001b[37m\u001b[0m \u001b[1m5s\u001b[0m 3ms/step - loss: 0.6464 - mae: 0.5125 - val_loss: 0.8067 - val_mae: 0.5602\n",
            "Epoch 14/15\n",
            "\u001b[1m1500/1500\u001b[0m \u001b[32m━━━━━━━━━━━━━━━━━━━━\u001b[0m\u001b[37m\u001b[0m \u001b[1m5s\u001b[0m 3ms/step - loss: 0.6431 - mae: 0.5051 - val_loss: 0.7574 - val_mae: 0.5193\n",
            "Epoch 15/15\n",
            "\u001b[1m1500/1500\u001b[0m \u001b[32m━━━━━━━━━━━━━━━━━━━━\u001b[0m\u001b[37m\u001b[0m \u001b[1m5s\u001b[0m 3ms/step - loss: 0.6234 - mae: 0.4926 - val_loss: 0.7471 - val_mae: 0.5207\n"
          ]
        }
      ],
      "source": [
        "print(\"\\nTraining...\")\n",
        "history = model.fit(\n",
        "    x=x_train,\n",
        "    y=y_train,\n",
        "    validation_split=0.2,\n",
        "    epochs=15,\n",
        "    batch_size=32,\n",
        ")\n"
      ]
    },
    {
      "cell_type": "code",
      "execution_count": null,
      "metadata": {
        "scrolled": false,
        "id": "hwdETdGqepVx",
        "colab": {
          "base_uri": "https://localhost:8080/",
          "height": 927
        },
        "outputId": "218e514a-bead-47b3-a735-a1a4186719e7"
      },
      "outputs": [
        {
          "output_type": "display_data",
          "data": {
            "text/plain": [
              "<Figure size 640x480 with 1 Axes>"
            ],
            "image/png": "[encoded data removed]"
          },
          "metadata": {}
        },
        {
          "output_type": "display_data",
          "data": {
            "text/plain": [
              "<Figure size 640x480 with 1 Axes>"
            ],
            "image/png": "[encoded data removed]"
          },
          "metadata": {}
        }
      ],
      "source": [
        "# Plot training & validation MAE values\n",
        "plt.plot(history.history['mae'])\n",
        "plt.plot(history.history['val_mae'])\n",
        "plt.title('Model MAE')\n",
        "plt.ylabel('MAE')\n",
        "plt.xlabel('Epoch')\n",
        "plt.legend(['Train', 'Test'], loc='upper left')\n",
        "plt.show()\n",
        "\n",
        "# Plot training & validation loss values\n",
        "plt.plot(history.history['loss'])\n",
        "plt.plot(history.history['val_loss'])\n",
        "plt.title('Model loss')\n",
        "plt.ylabel('Loss')\n",
        "plt.xlabel('Epoch')\n",
        "plt.legend(['Train', 'Test'], loc='upper left')\n",
        "plt.show()"
      ]
    },
    {
      "cell_type": "code",
      "execution_count": null,
      "metadata": {
        "id": "qjUmMf8cepVy",
        "colab": {
          "base_uri": "https://localhost:8080/"
        },
        "outputId": "3947b0ad-bb46-4707-ff3f-1af7f05c02bc"
      },
      "outputs": [
        {
          "output_type": "stream",
          "name": "stdout",
          "text": [
            "\u001b[1m1/1\u001b[0m \u001b[32m━━━━━━━━━━━━━━━━━━━━\u001b[0m\u001b[37m\u001b[0m \u001b[1m0s\u001b[0m 189ms/step\n"
          ]
        },
        {
          "output_type": "execute_result",
          "data": {
            "text/plain": [
              "array([[1.7586448]], dtype=float32)"
            ]
          },
          "metadata": {},
          "execution_count": 25
        }
      ],
      "source": [
        "prediction = model.predict(x_test[1].reshape(1, -1))\n",
        "prediction"
      ]
    },
    {
      "cell_type": "code",
      "execution_count": null,
      "metadata": {
        "id": "xy9d6gLqepVy",
        "colab": {
          "base_uri": "https://localhost:8080/",
          "height": 452
        },
        "outputId": "92007135-cb62-4280-e8ff-136e07c21fb0"
      },
      "outputs": [
        {
          "output_type": "display_data",
          "data": {
            "text/plain": [
              "<Figure size 640x480 with 1 Axes>"
            ],
            "image/png": "[encoded data removed]"
          },
          "metadata": {}
        }
      ],
      "source": [
        "plt.imshow(x_test[1].reshape(28, 28))\n",
        "plt.title(y_test[1])\n",
        "plt.show()"
      ]
    },
    {
      "cell_type": "code",
      "source": [],
      "metadata": {
        "id": "e5tZoVFf2v_7"
      },
      "execution_count": null,
      "outputs": []
    }
  ],
  "metadata": {
    "kernelspec": {
      "display_name": "Python 3 (ipykernel)",
      "language": "python",
      "name": "python3"
    },
    "language_info": {
      "codemirror_mode": {
        "name": "ipython",
        "version": 3
      },
      "file_extension": ".py",
      "mimetype": "text/x-python",
      "name": "python",
      "nbconvert_exporter": "python",
      "pygments_lexer": "ipython3",
      "version": "3.8.12"
    },
    "colab": {
      "provenance": [],
      "toc_visible": true,
      "include_colab_link": true
    },
    "accelerator": "GPU",
    "widgets": {
      "application/vnd.jupyter.widget-state+json": {
        "06b680c854894bdd84028cbae4191ae2": {
          "model_module": "@jupyter-widgets/controls",
          "model_name": "VBoxModel",
          "model_module_version": "1.5.0",
          "state": {
            "_dom_classes": [
              "widget-interact"
            ],
            "_model_module": "@jupyter-widgets/controls",
            "_model_module_version": "1.5.0",
            "_model_name": "VBoxModel",
            "_view_count": null,
            "_view_module": "@jupyter-widgets/controls",
            "_view_module_version": "1.5.0",
            "_view_name": "VBoxView",
            "box_style": "",
            "children": [
              "IPY_MODEL_ec0c2b1378314f998209f17deeef58e9",
              "IPY_MODEL_06a183151e154033b4d67adad882f914"
            ],
            "layout": "IPY_MODEL_52942950a8aa48d085aefc0e41e119b3"
          }
        },
        "ec0c2b1378314f998209f17deeef58e9": {
          "model_module": "@jupyter-widgets/controls",
          "model_name": "IntSliderModel",
          "model_module_version": "1.5.0",
          "state": {
            "_dom_classes": [],
            "_model_module": "@jupyter-widgets/controls",
            "_model_module_version": "1.5.0",
            "_model_name": "IntSliderModel",
            "_view_count": null,
            "_view_module": "@jupyter-widgets/controls",
            "_view_module_version": "1.5.0",
            "_view_name": "IntSliderView",
            "continuous_update": true,
            "description": "i",
            "description_tooltip": null,
            "disabled": false,
            "layout": "IPY_MODEL_29066191a16f44bf9cfaeb9df3e3d4cc",
            "max": 59999,
            "min": 0,
            "orientation": "horizontal",
            "readout": true,
            "readout_format": "d",
            "step": 1,
            "style": "IPY_MODEL_621a956e9cf94f72a5484a03fe887d00",
            "value": 29999
          }
        },
        "06a183151e154033b4d67adad882f914": {
          "model_module": "@jupyter-widgets/output",
          "model_name": "OutputModel",
          "model_module_version": "1.0.0",
          "state": {
            "_dom_classes": [],
            "_model_module": "@jupyter-widgets/output",
            "_model_module_version": "1.0.0",
            "_model_name": "OutputModel",
            "_view_count": null,
            "_view_module": "@jupyter-widgets/output",
            "_view_module_version": "1.0.0",
            "_view_name": "OutputView",
            "layout": "IPY_MODEL_a6a0e1fc72404a998647a35d945b8938",
            "msg_id": "",
            "outputs": [
              {
                "output_type": "display_data",
                "data": {
                  "text/plain": "<Figure size 640x480 with 1 Axes>",
                  "image/png": "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\n"
                },
                "metadata": {}
              }
            ]
          }
        },
        "52942950a8aa48d085aefc0e41e119b3": {
          "model_module": "@jupyter-widgets/base",
          "model_name": "LayoutModel",
          "model_module_version": "1.2.0",
          "state": {
            "_model_module": "@jupyter-widgets/base",
            "_model_module_version": "1.2.0",
            "_model_name": "LayoutModel",
            "_view_count": null,
            "_view_module": "@jupyter-widgets/base",
            "_view_module_version": "1.2.0",
            "_view_name": "LayoutView",
            "align_content": null,
            "align_items": null,
            "align_self": null,
            "border": null,
            "bottom": null,
            "display": null,
            "flex": null,
            "flex_flow": null,
            "grid_area": null,
            "grid_auto_columns": null,
            "grid_auto_flow": null,
            "grid_auto_rows": null,
            "grid_column": null,
            "grid_gap": null,
            "grid_row": null,
            "grid_template_areas": null,
            "grid_template_columns": null,
            "grid_template_rows": null,
            "height": null,
            "justify_content": null,
            "justify_items": null,
            "left": null,
            "margin": null,
            "max_height": null,
            "max_width": null,
            "min_height": null,
            "min_width": null,
            "object_fit": null,
            "object_position": null,
            "order": null,
            "overflow": null,
            "overflow_x": null,
            "overflow_y": null,
            "padding": null,
            "right": null,
            "top": null,
            "visibility": null,
            "width": null
          }
        },
        "29066191a16f44bf9cfaeb9df3e3d4cc": {
          "model_module": "@jupyter-widgets/base",
          "model_name": "LayoutModel",
          "model_module_version": "1.2.0",
          "state": {
            "_model_module": "@jupyter-widgets/base",
            "_model_module_version": "1.2.0",
            "_model_name": "LayoutModel",
            "_view_count": null,
            "_view_module": "@jupyter-widgets/base",
            "_view_module_version": "1.2.0",
            "_view_name": "LayoutView",
            "align_content": null,
            "align_items": null,
            "align_self": null,
            "border": null,
            "bottom": null,
            "display": null,
            "flex": null,
            "flex_flow": null,
            "grid_area": null,
            "grid_auto_columns": null,
            "grid_auto_flow": null,
            "grid_auto_rows": null,
            "grid_column": null,
            "grid_gap": null,
            "grid_row": null,
            "grid_template_areas": null,
            "grid_template_columns": null,
            "grid_template_rows": null,
            "height": null,
            "justify_content": null,
            "justify_items": null,
            "left": null,
            "margin": null,
            "max_height": null,
            "max_width": null,
            "min_height": null,
            "min_width": null,
            "object_fit": null,
            "object_position": null,
            "order": null,
            "overflow": null,
            "overflow_x": null,
            "overflow_y": null,
            "padding": null,
            "right": null,
            "top": null,
            "visibility": null,
            "width": null
          }
        },
        "621a956e9cf94f72a5484a03fe887d00": {
          "model_module": "@jupyter-widgets/controls",
          "model_name": "SliderStyleModel",
          "model_module_version": "1.5.0",
          "state": {
            "_model_module": "@jupyter-widgets/controls",
            "_model_module_version": "1.5.0",
            "_model_name": "SliderStyleModel",
            "_view_count": null,
            "_view_module": "@jupyter-widgets/base",
            "_view_module_version": "1.2.0",
            "_view_name": "StyleView",
            "description_width": "",
            "handle_color": null
          }
        },
        "a6a0e1fc72404a998647a35d945b8938": {
          "model_module": "@jupyter-widgets/base",
          "model_name": "LayoutModel",
          "model_module_version": "1.2.0",
          "state": {
            "_model_module": "@jupyter-widgets/base",
            "_model_module_version": "1.2.0",
            "_model_name": "LayoutModel",
            "_view_count": null,
            "_view_module": "@jupyter-widgets/base",
            "_view_module_version": "1.2.0",
            "_view_name": "LayoutView",
            "align_content": null,
            "align_items": null,
            "align_self": null,
            "border": null,
            "bottom": null,
            "display": null,
            "flex": null,
            "flex_flow": null,
            "grid_area": null,
            "grid_auto_columns": null,
            "grid_auto_flow": null,
            "grid_auto_rows": null,
            "grid_column": null,
            "grid_gap": null,
            "grid_row": null,
            "grid_template_areas": null,
            "grid_template_columns": null,
            "grid_template_rows": null,
            "height": null,
            "justify_content": null,
            "justify_items": null,
            "left": null,
            "margin": null,
            "max_height": null,
            "max_width": null,
            "min_height": null,
            "min_width": null,
            "object_fit": null,
            "object_position": null,
            "order": null,
            "overflow": null,
            "overflow_x": null,
            "overflow_y": null,
            "padding": null,
            "right": null,
            "top": null,
            "visibility": null,
            "width": null
          }
        }
      }
    }
  },
  "nbformat": 4,
  "nbformat_minor": 0
}