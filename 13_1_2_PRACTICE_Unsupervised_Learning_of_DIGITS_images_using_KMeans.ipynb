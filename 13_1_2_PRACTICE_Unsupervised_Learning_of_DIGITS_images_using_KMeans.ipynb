{
  "cells": [
    {
      "cell_type": "markdown",
      "metadata": {
        "id": "view-in-github",
        "colab_type": "text"
      },
      "source": [
        "<a href=\"https://colab.research.google.com/github/pipuf/ml_dev_cert/blob/main/13_1_2_PRACTICE_Unsupervised_Learning_of_DIGITS_images_using_KMeans.ipynb\" target=\"_parent\"><img src=\"https://colab.research.google.com/assets/colab-badge.svg\" alt=\"Open In Colab\"/></a>"
      ]
    },
    {
      "cell_type": "markdown",
      "metadata": {
        "id": "CcrEWaQzZTiy"
      },
      "source": [
        "# K-Means on digits"
      ]
    },
    {
      "cell_type": "markdown",
      "metadata": {
        "id": "VkqSOoS5ZTi0"
      },
      "source": [
        "### We are going to use K-Means to cluster 8-bit by 8-bit images of the handwritten numbers 0 to 9. Let's see if we can group them correctly."
      ]
    },
    {
      "cell_type": "code",
      "execution_count": null,
      "metadata": {
        "id": "XWCZk48LZTi1",
        "outputId": "1454e8e1-0d3a-4644-9829-af4b600f93c2"
      },
      "outputs": [
        {
          "data": {
            "text/plain": [
              "(1797, 64)"
            ]
          },
          "execution_count": 3,
          "metadata": {},
          "output_type": "execute_result"
        }
      ],
      "source": [
        "from sklearn.datasets import load_digits\n",
        "\n",
        "digits = load_digits()\n",
        "digits.data.shape"
      ]
    },
    {
      "cell_type": "code",
      "execution_count": null,
      "metadata": {
        "id": "e0fhKai-ZTi2",
        "outputId": "52404414-1d7e-44ce-c367-ba3caa43e48e"
      },
      "outputs": [
        {
          "data": {
            "text/plain": [
              "array([[ 0.,  0.,  5., ...,  0.,  0.,  0.],\n",
              "       [ 0.,  0.,  0., ..., 10.,  0.,  0.],\n",
              "       [ 0.,  0.,  0., ..., 16.,  9.,  0.],\n",
              "       ...,\n",
              "       [ 0.,  0.,  1., ...,  6.,  0.,  0.],\n",
              "       [ 0.,  0.,  2., ..., 12.,  0.,  0.],\n",
              "       [ 0.,  0., 10., ..., 12.,  1.,  0.]])"
            ]
          },
          "execution_count": 4,
          "metadata": {},
          "output_type": "execute_result"
        }
      ],
      "source": [
        "x,y = digits.data, digits.target\n",
        "\n",
        "x\n"
      ]
    },
    {
      "cell_type": "markdown",
      "metadata": {
        "id": "VNNOaXoUZTi2"
      },
      "source": [
        "### Let's visualize some numbers"
      ]
    },
    {
      "cell_type": "code",
      "execution_count": null,
      "metadata": {
        "id": "ImraXqyyZTi2",
        "outputId": "0b57bb34-396e-4cab-e68c-26394d4aa1ec"
      },
      "outputs": [
        {
          "data": {
            "image/png": "[encoded data removed]",
            "text/plain": [
              "<Figure size 1000x500 with 50 Axes>"
            ]
          },
          "metadata": {},
          "output_type": "display_data"
        }
      ],
      "source": [
        "import matplotlib.pyplot as plt\n",
        "import numpy as np\n",
        "def plot_digits(x,n_columns=10):\n",
        "    x_reshaped = x.reshape(-1, 8, 8)\n",
        "    n_rows = int(np.ceil(x.shape[0]/n_columns))\n",
        "\n",
        "    fig, ax = plt.subplots(n_rows, n_columns, figsize=(n_columns, n_rows))\n",
        "\n",
        "    for axi in ax.flat:\n",
        "        axi.set(xticks=[], yticks=[])\n",
        "\n",
        "    for axi, image in zip(ax.flat, x_reshaped):\n",
        "        axi.imshow(image, interpolation='nearest', cmap=plt.cm.binary)\n",
        "\n",
        "\n",
        "\n",
        "plot_digits(x[:50,:],n_columns=10)"
      ]
    },
    {
      "cell_type": "markdown",
      "metadata": {
        "id": "SKayAQveZTi3"
      },
      "source": [
        "### TODO:\n",
        "\n",
        "Cluster the images without using the labels using $K=10$ centroids .\n",
        "\n",
        "After the clustering finishes, graph the centroids (use the `cluster_centers_` variable of the KMeans model). Note that the centroids will be 64 element vectors that also need to be resized to `8x8` arrays to plot them as images.\n",
        "\n",
        "* Do cluster centroids resemble digit images?\n",
        "* Are the centroids that represent digits ordered? Why?"
      ]
    },
    {
      "cell_type": "markdown",
      "metadata": {
        "id": "zFlasfL3ZTi3"
      },
      "source": [
        "### TODO:\n",
        "\n",
        "Cluster the images without using the labels using $K=2$ $K=5$ and $K=15$ centroids (hint: use a for loop). Graph the centroids in each case.\n",
        "\n",
        "* Do cluster centroids resemble digit images?\n"
      ]
    },
    {
      "cell_type": "markdown",
      "metadata": {
        "id": "jlPe61CEwVIg"
      },
      "source": [
        "### Bonus\n",
        "\n",
        "The clustering obtained with $K=10$ is not a classification per se, but can be used to build a classification model.\n",
        "\n",
        "Reorder the centroids so that each corresponds to their proper class (Hint: define a vector with the indices that will reorder the centroids and use it to index the centroid matrix).\n",
        "\n",
        "Now use the `predict` method of the clustering model to predict the cluster for each of the training set images. Compare that prediction with the true values in the `digits.target` variable, and construct a confusion matrix.\n",
        "\n",
        "Analyze the resulting errors. What do they mean in terms of the centroids we found?\n",
        "\n"
      ]
    }
  ],
  "metadata": {
    "colab": {
      "provenance": [],
      "include_colab_link": true
    },
    "kernelspec": {
      "display_name": "Python 3.10.4 ('spectro')",
      "language": "python",
      "name": "python3"
    },
    "language_info": {
      "codemirror_mode": {
        "name": "ipython",
        "version": 3
      },
      "file_extension": ".py",
      "mimetype": "text/x-python",
      "name": "python",
      "nbconvert_exporter": "python",
      "pygments_lexer": "ipython3",
      "version": "3.10.4"
    },
    "papermill": {
      "duration": 22.614156,
      "end_time": "2020-10-21T06:42:47.092818",
      "environment_variables": {},
      "exception": null,
      "input_path": "__notebook__.ipynb",
      "output_path": "__notebook__.ipynb",
      "parameters": {},
      "start_time": "2020-10-21T06:42:24.478662",
      "version": "2.1.0"
    },
    "vscode": {
      "interpreter": {
        "hash": "573ca02252bbd21b8e610cbe62d229b402d68c5da1f9aac6c17de8e76761c972"
      }
    }
  },
  "nbformat": 4,
  "nbformat_minor": 0
}